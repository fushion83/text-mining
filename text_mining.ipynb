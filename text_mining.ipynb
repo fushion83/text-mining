{
 "cells": [
  {
   "cell_type": "code",
   "execution_count": 3,
   "metadata": {
    "slideshow": {
     "slide_type": "skip"
    }
   },
   "outputs": [
    {
     "data": {
      "text/html": [
       "<h2 style=\"margin: 0\">An Introduction to Text Mining</h2>\n",
       "\n",
       "<div class=\"entities\" style=\"line-height: 2.5\">\n",
       "<mark class=\"entity\" style=\"background: #feca74; padding: 0.45em 0.6em; margin: 0 0.25em; line-height: 1; border-radius: 0.35em; box-decoration-break: clone; -webkit-box-decoration-break: clone\">\n",
       "    \n",
       "\n",
       "    <span style=\"font-size: 0.8em; font-weight: bold; line-height: 1; border-radius: 0.35em; text-transform: uppercase; vertical-align: middle; margin-left: 0.5rem\">GPE</span>\n",
       "</mark>\n",
       "The history of natural language processing generally started in \n",
       "<mark class=\"entity\" style=\"background: #bfe1d9; padding: 0.45em 0.6em; margin: 0 0.25em; line-height: 1; border-radius: 0.35em; box-decoration-break: clone; -webkit-box-decoration-break: clone\">\n",
       "    the 1950s\n",
       "    <span style=\"font-size: 0.8em; font-weight: bold; line-height: 1; border-radius: 0.35em; text-transform: uppercase; vertical-align: middle; margin-left: 0.5rem\">DATE</span>\n",
       "</mark>\n",
       ", although work can be found from earlier periods. \n",
       "<mark class=\"entity\" style=\"background: #feca74; padding: 0.45em 0.6em; margin: 0 0.25em; line-height: 1; border-radius: 0.35em; box-decoration-break: clone; -webkit-box-decoration-break: clone\">\n",
       "    \n",
       "\n",
       "    <span style=\"font-size: 0.8em; font-weight: bold; line-height: 1; border-radius: 0.35em; text-transform: uppercase; vertical-align: middle; margin-left: 0.5rem\">GPE</span>\n",
       "</mark>\n",
       "In \n",
       "<mark class=\"entity\" style=\"background: #bfe1d9; padding: 0.45em 0.6em; margin: 0 0.25em; line-height: 1; border-radius: 0.35em; box-decoration-break: clone; -webkit-box-decoration-break: clone\">\n",
       "    1950\n",
       "    <span style=\"font-size: 0.8em; font-weight: bold; line-height: 1; border-radius: 0.35em; text-transform: uppercase; vertical-align: middle; margin-left: 0.5rem\">DATE</span>\n",
       "</mark>\n",
       ", \n",
       "<mark class=\"entity\" style=\"background: #aa9cfc; padding: 0.45em 0.6em; margin: 0 0.25em; line-height: 1; border-radius: 0.35em; box-decoration-break: clone; -webkit-box-decoration-break: clone\">\n",
       "    Alan Turing\n",
       "    <span style=\"font-size: 0.8em; font-weight: bold; line-height: 1; border-radius: 0.35em; text-transform: uppercase; vertical-align: middle; margin-left: 0.5rem\">PERSON</span>\n",
       "</mark>\n",
       " published an article titled \"\n",
       "<mark class=\"entity\" style=\"background: #f0d0ff; padding: 0.45em 0.6em; margin: 0 0.25em; line-height: 1; border-radius: 0.35em; box-decoration-break: clone; -webkit-box-decoration-break: clone\">\n",
       "    Intelligence\n",
       "    <span style=\"font-size: 0.8em; font-weight: bold; line-height: 1; border-radius: 0.35em; text-transform: uppercase; vertical-align: middle; margin-left: 0.5rem\">WORK_OF_ART</span>\n",
       "</mark>\n",
       "\" which proposed what is now called the Turing test as a criterion of intelligence.\n",
       "<mark class=\"entity\" style=\"background: #feca74; padding: 0.45em 0.6em; margin: 0 0.25em; line-height: 1; border-radius: 0.35em; box-decoration-break: clone; -webkit-box-decoration-break: clone\">\n",
       "    \n",
       "\n",
       "    <span style=\"font-size: 0.8em; font-weight: bold; line-height: 1; border-radius: 0.35em; text-transform: uppercase; vertical-align: middle; margin-left: 0.5rem\">GPE</span>\n",
       "</mark>\n",
       "The \n",
       "<mark class=\"entity\" style=\"background: #feca74; padding: 0.45em 0.6em; margin: 0 0.25em; line-height: 1; border-radius: 0.35em; box-decoration-break: clone; -webkit-box-decoration-break: clone\">\n",
       "    Georgetown\n",
       "    <span style=\"font-size: 0.8em; font-weight: bold; line-height: 1; border-radius: 0.35em; text-transform: uppercase; vertical-align: middle; margin-left: 0.5rem\">GPE</span>\n",
       "</mark>\n",
       " experiment in \n",
       "<mark class=\"entity\" style=\"background: #bfe1d9; padding: 0.45em 0.6em; margin: 0 0.25em; line-height: 1; border-radius: 0.35em; box-decoration-break: clone; -webkit-box-decoration-break: clone\">\n",
       "    1954\n",
       "    <span style=\"font-size: 0.8em; font-weight: bold; line-height: 1; border-radius: 0.35em; text-transform: uppercase; vertical-align: middle; margin-left: 0.5rem\">DATE</span>\n",
       "</mark>\n",
       " involved fully automatic translation of \n",
       "<mark class=\"entity\" style=\"background: #e4e7d2; padding: 0.45em 0.6em; margin: 0 0.25em; line-height: 1; border-radius: 0.35em; box-decoration-break: clone; -webkit-box-decoration-break: clone\">\n",
       "    more than sixty\n",
       "    <span style=\"font-size: 0.8em; font-weight: bold; line-height: 1; border-radius: 0.35em; text-transform: uppercase; vertical-align: middle; margin-left: 0.5rem\">CARDINAL</span>\n",
       "</mark>\n",
       " \n",
       "<mark class=\"entity\" style=\"background: #c887fb; padding: 0.45em 0.6em; margin: 0 0.25em; line-height: 1; border-radius: 0.35em; box-decoration-break: clone; -webkit-box-decoration-break: clone\">\n",
       "    Russian\n",
       "    <span style=\"font-size: 0.8em; font-weight: bold; line-height: 1; border-radius: 0.35em; text-transform: uppercase; vertical-align: middle; margin-left: 0.5rem\">NORP</span>\n",
       "</mark>\n",
       " sentences into \n",
       "<mark class=\"entity\" style=\"background: #ff8197; padding: 0.45em 0.6em; margin: 0 0.25em; line-height: 1; border-radius: 0.35em; box-decoration-break: clone; -webkit-box-decoration-break: clone\">\n",
       "    English\n",
       "    <span style=\"font-size: 0.8em; font-weight: bold; line-height: 1; border-radius: 0.35em; text-transform: uppercase; vertical-align: middle; margin-left: 0.5rem\">LANGUAGE</span>\n",
       "</mark>\n",
       ". \n",
       "<mark class=\"entity\" style=\"background: #feca74; padding: 0.45em 0.6em; margin: 0 0.25em; line-height: 1; border-radius: 0.35em; box-decoration-break: clone; -webkit-box-decoration-break: clone\">\n",
       "    \n",
       "\n",
       "    <span style=\"font-size: 0.8em; font-weight: bold; line-height: 1; border-radius: 0.35em; text-transform: uppercase; vertical-align: middle; margin-left: 0.5rem\">GPE</span>\n",
       "</mark>\n",
       "The authors claimed that within \n",
       "<mark class=\"entity\" style=\"background: #bfe1d9; padding: 0.45em 0.6em; margin: 0 0.25em; line-height: 1; border-radius: 0.35em; box-decoration-break: clone; -webkit-box-decoration-break: clone\">\n",
       "    three or five years\n",
       "    <span style=\"font-size: 0.8em; font-weight: bold; line-height: 1; border-radius: 0.35em; text-transform: uppercase; vertical-align: middle; margin-left: 0.5rem\">DATE</span>\n",
       "</mark>\n",
       ", machine translation would be a solved problem.\n",
       "<mark class=\"entity\" style=\"background: #feca74; padding: 0.45em 0.6em; margin: 0 0.25em; line-height: 1; border-radius: 0.35em; box-decoration-break: clone; -webkit-box-decoration-break: clone\">\n",
       "    \n",
       "\n",
       "    <span style=\"font-size: 0.8em; font-weight: bold; line-height: 1; border-radius: 0.35em; text-transform: uppercase; vertical-align: middle; margin-left: 0.5rem\">GPE</span>\n",
       "</mark>\n",
       "However, real progress was much slower, and after the \n",
       "<mark class=\"entity\" style=\"background: #7aecec; padding: 0.45em 0.6em; margin: 0 0.25em; line-height: 1; border-radius: 0.35em; box-decoration-break: clone; -webkit-box-decoration-break: clone\">\n",
       "    ALPAC\n",
       "    <span style=\"font-size: 0.8em; font-weight: bold; line-height: 1; border-radius: 0.35em; text-transform: uppercase; vertical-align: middle; margin-left: 0.5rem\">ORG</span>\n",
       "</mark>\n",
       " report in \n",
       "<mark class=\"entity\" style=\"background: #bfe1d9; padding: 0.45em 0.6em; margin: 0 0.25em; line-height: 1; border-radius: 0.35em; box-decoration-break: clone; -webkit-box-decoration-break: clone\">\n",
       "    1966\n",
       "    <span style=\"font-size: 0.8em; font-weight: bold; line-height: 1; border-radius: 0.35em; text-transform: uppercase; vertical-align: middle; margin-left: 0.5rem\">DATE</span>\n",
       "</mark>\n",
       ", \n",
       "<mark class=\"entity\" style=\"background: #feca74; padding: 0.45em 0.6em; margin: 0 0.25em; line-height: 1; border-radius: 0.35em; box-decoration-break: clone; -webkit-box-decoration-break: clone\">\n",
       "    \n",
       "\n",
       "    <span style=\"font-size: 0.8em; font-weight: bold; line-height: 1; border-radius: 0.35em; text-transform: uppercase; vertical-align: middle; margin-left: 0.5rem\">GPE</span>\n",
       "</mark>\n",
       "which found that \n",
       "<mark class=\"entity\" style=\"background: #bfe1d9; padding: 0.45em 0.6em; margin: 0 0.25em; line-height: 1; border-radius: 0.35em; box-decoration-break: clone; -webkit-box-decoration-break: clone\">\n",
       "    ten-year-long\n",
       "    <span style=\"font-size: 0.8em; font-weight: bold; line-height: 1; border-radius: 0.35em; text-transform: uppercase; vertical-align: middle; margin-left: 0.5rem\">DATE</span>\n",
       "</mark>\n",
       " research had failed to fulfill the expectations, funding for machine translation was dramatically reduced. \n",
       "<mark class=\"entity\" style=\"background: #feca74; padding: 0.45em 0.6em; margin: 0 0.25em; line-height: 1; border-radius: 0.35em; box-decoration-break: clone; -webkit-box-decoration-break: clone\">\n",
       "    \n",
       "\n",
       "    <span style=\"font-size: 0.8em; font-weight: bold; line-height: 1; border-radius: 0.35em; text-transform: uppercase; vertical-align: middle; margin-left: 0.5rem\">GPE</span>\n",
       "</mark>\n",
       "Little further research in machine translation was conducted until \n",
       "<mark class=\"entity\" style=\"background: #bfe1d9; padding: 0.45em 0.6em; margin: 0 0.25em; line-height: 1; border-radius: 0.35em; box-decoration-break: clone; -webkit-box-decoration-break: clone\">\n",
       "    the late 1980s\n",
       "    <span style=\"font-size: 0.8em; font-weight: bold; line-height: 1; border-radius: 0.35em; text-transform: uppercase; vertical-align: middle; margin-left: 0.5rem\">DATE</span>\n",
       "</mark>\n",
       ", when the \n",
       "<mark class=\"entity\" style=\"background: #e4e7d2; padding: 0.45em 0.6em; margin: 0 0.25em; line-height: 1; border-radius: 0.35em; box-decoration-break: clone; -webkit-box-decoration-break: clone\">\n",
       "    first\n",
       "    <span style=\"font-size: 0.8em; font-weight: bold; line-height: 1; border-radius: 0.35em; text-transform: uppercase; vertical-align: middle; margin-left: 0.5rem\">ORDINAL</span>\n",
       "</mark>\n",
       " statistical machine translation systems were developed.\n",
       "<mark class=\"entity\" style=\"background: #feca74; padding: 0.45em 0.6em; margin: 0 0.25em; line-height: 1; border-radius: 0.35em; box-decoration-break: clone; -webkit-box-decoration-break: clone\">\n",
       "    \n",
       "\n",
       "    <span style=\"font-size: 0.8em; font-weight: bold; line-height: 1; border-radius: 0.35em; text-transform: uppercase; vertical-align: middle; margin-left: 0.5rem\">GPE</span>\n",
       "</mark>\n",
       "</div>"
      ],
      "text/plain": [
       "<IPython.core.display.HTML object>"
      ]
     },
     "metadata": {},
     "output_type": "display_data"
    }
   ],
   "source": [
    "import spacy\n",
    "#if you need to install spacy you can \n",
    "#uncomment the pip install or see the link below\n",
    "#https://spacy.io/usage/\n",
    "#!pip install -U spacy\n",
    "from spacy import displacy\n",
    "nlp = spacy.load('en')\n",
    "doc = nlp(u'''\n",
    "The history of natural language processing generally started in the 1950s, although work can be found from earlier periods. \n",
    "In 1950, Alan Turing published an article titled \"Intelligence\" which proposed what is now called the Turing test as a criterion of intelligence.\n",
    "The Georgetown experiment in 1954 involved fully automatic translation of more than sixty Russian sentences into English. \n",
    "The authors claimed that within three or five years, machine translation would be a solved problem.\n",
    "However, real progress was much slower, and after the ALPAC report in 1966, \n",
    "which found that ten-year-long research had failed to fulfill the expectations, funding for machine translation was dramatically reduced. \n",
    "Little further research in machine translation was conducted until the late 1980s, when the first statistical machine translation systems were developed.\n",
    "''')\n",
    "doc.user_data['title'] = 'An Introduction to Text Mining'\n",
    "displacy.render(doc, style = 'ent', jupyter = True)"
   ]
  },
  {
   "cell_type": "code",
   "execution_count": 4,
   "metadata": {
    "slideshow": {
     "slide_type": "slide"
    }
   },
   "outputs": [
    {
     "data": {
      "text/html": [
       "<h2 style=\"margin: 0\">An Introduction to Text Mining</h2>\n",
       "\n",
       "<div class=\"entities\" style=\"line-height: 2.5\">\n",
       "<mark class=\"entity\" style=\"background: #feca74; padding: 0.45em 0.6em; margin: 0 0.25em; line-height: 1; border-radius: 0.35em; box-decoration-break: clone; -webkit-box-decoration-break: clone\">\n",
       "    \n",
       "\n",
       "    <span style=\"font-size: 0.8em; font-weight: bold; line-height: 1; border-radius: 0.35em; text-transform: uppercase; vertical-align: middle; margin-left: 0.5rem\">GPE</span>\n",
       "</mark>\n",
       "The history of natural language processing generally started in \n",
       "<mark class=\"entity\" style=\"background: #bfe1d9; padding: 0.45em 0.6em; margin: 0 0.25em; line-height: 1; border-radius: 0.35em; box-decoration-break: clone; -webkit-box-decoration-break: clone\">\n",
       "    the 1950s\n",
       "    <span style=\"font-size: 0.8em; font-weight: bold; line-height: 1; border-radius: 0.35em; text-transform: uppercase; vertical-align: middle; margin-left: 0.5rem\">DATE</span>\n",
       "</mark>\n",
       ", although work can be found from earlier periods. \n",
       "<mark class=\"entity\" style=\"background: #feca74; padding: 0.45em 0.6em; margin: 0 0.25em; line-height: 1; border-radius: 0.35em; box-decoration-break: clone; -webkit-box-decoration-break: clone\">\n",
       "    \n",
       "\n",
       "    <span style=\"font-size: 0.8em; font-weight: bold; line-height: 1; border-radius: 0.35em; text-transform: uppercase; vertical-align: middle; margin-left: 0.5rem\">GPE</span>\n",
       "</mark>\n",
       "In \n",
       "<mark class=\"entity\" style=\"background: #bfe1d9; padding: 0.45em 0.6em; margin: 0 0.25em; line-height: 1; border-radius: 0.35em; box-decoration-break: clone; -webkit-box-decoration-break: clone\">\n",
       "    1950\n",
       "    <span style=\"font-size: 0.8em; font-weight: bold; line-height: 1; border-radius: 0.35em; text-transform: uppercase; vertical-align: middle; margin-left: 0.5rem\">DATE</span>\n",
       "</mark>\n",
       ", \n",
       "<mark class=\"entity\" style=\"background: #aa9cfc; padding: 0.45em 0.6em; margin: 0 0.25em; line-height: 1; border-radius: 0.35em; box-decoration-break: clone; -webkit-box-decoration-break: clone\">\n",
       "    Alan Turing\n",
       "    <span style=\"font-size: 0.8em; font-weight: bold; line-height: 1; border-radius: 0.35em; text-transform: uppercase; vertical-align: middle; margin-left: 0.5rem\">PERSON</span>\n",
       "</mark>\n",
       " published an article titled \"\n",
       "<mark class=\"entity\" style=\"background: #f0d0ff; padding: 0.45em 0.6em; margin: 0 0.25em; line-height: 1; border-radius: 0.35em; box-decoration-break: clone; -webkit-box-decoration-break: clone\">\n",
       "    Intelligence\n",
       "    <span style=\"font-size: 0.8em; font-weight: bold; line-height: 1; border-radius: 0.35em; text-transform: uppercase; vertical-align: middle; margin-left: 0.5rem\">WORK_OF_ART</span>\n",
       "</mark>\n",
       "\" which proposed what is now called the Turing test as a criterion of intelligence.\n",
       "<mark class=\"entity\" style=\"background: #feca74; padding: 0.45em 0.6em; margin: 0 0.25em; line-height: 1; border-radius: 0.35em; box-decoration-break: clone; -webkit-box-decoration-break: clone\">\n",
       "    \n",
       "\n",
       "    <span style=\"font-size: 0.8em; font-weight: bold; line-height: 1; border-radius: 0.35em; text-transform: uppercase; vertical-align: middle; margin-left: 0.5rem\">GPE</span>\n",
       "</mark>\n",
       "The \n",
       "<mark class=\"entity\" style=\"background: #feca74; padding: 0.45em 0.6em; margin: 0 0.25em; line-height: 1; border-radius: 0.35em; box-decoration-break: clone; -webkit-box-decoration-break: clone\">\n",
       "    Georgetown\n",
       "    <span style=\"font-size: 0.8em; font-weight: bold; line-height: 1; border-radius: 0.35em; text-transform: uppercase; vertical-align: middle; margin-left: 0.5rem\">GPE</span>\n",
       "</mark>\n",
       " experiment in \n",
       "<mark class=\"entity\" style=\"background: #bfe1d9; padding: 0.45em 0.6em; margin: 0 0.25em; line-height: 1; border-radius: 0.35em; box-decoration-break: clone; -webkit-box-decoration-break: clone\">\n",
       "    1954\n",
       "    <span style=\"font-size: 0.8em; font-weight: bold; line-height: 1; border-radius: 0.35em; text-transform: uppercase; vertical-align: middle; margin-left: 0.5rem\">DATE</span>\n",
       "</mark>\n",
       " involved fully automatic translation of \n",
       "<mark class=\"entity\" style=\"background: #e4e7d2; padding: 0.45em 0.6em; margin: 0 0.25em; line-height: 1; border-radius: 0.35em; box-decoration-break: clone; -webkit-box-decoration-break: clone\">\n",
       "    more than sixty\n",
       "    <span style=\"font-size: 0.8em; font-weight: bold; line-height: 1; border-radius: 0.35em; text-transform: uppercase; vertical-align: middle; margin-left: 0.5rem\">CARDINAL</span>\n",
       "</mark>\n",
       " \n",
       "<mark class=\"entity\" style=\"background: #c887fb; padding: 0.45em 0.6em; margin: 0 0.25em; line-height: 1; border-radius: 0.35em; box-decoration-break: clone; -webkit-box-decoration-break: clone\">\n",
       "    Russian\n",
       "    <span style=\"font-size: 0.8em; font-weight: bold; line-height: 1; border-radius: 0.35em; text-transform: uppercase; vertical-align: middle; margin-left: 0.5rem\">NORP</span>\n",
       "</mark>\n",
       " sentences into \n",
       "<mark class=\"entity\" style=\"background: #ff8197; padding: 0.45em 0.6em; margin: 0 0.25em; line-height: 1; border-radius: 0.35em; box-decoration-break: clone; -webkit-box-decoration-break: clone\">\n",
       "    English\n",
       "    <span style=\"font-size: 0.8em; font-weight: bold; line-height: 1; border-radius: 0.35em; text-transform: uppercase; vertical-align: middle; margin-left: 0.5rem\">LANGUAGE</span>\n",
       "</mark>\n",
       ". \n",
       "<mark class=\"entity\" style=\"background: #feca74; padding: 0.45em 0.6em; margin: 0 0.25em; line-height: 1; border-radius: 0.35em; box-decoration-break: clone; -webkit-box-decoration-break: clone\">\n",
       "    \n",
       "\n",
       "    <span style=\"font-size: 0.8em; font-weight: bold; line-height: 1; border-radius: 0.35em; text-transform: uppercase; vertical-align: middle; margin-left: 0.5rem\">GPE</span>\n",
       "</mark>\n",
       "The authors claimed that within \n",
       "<mark class=\"entity\" style=\"background: #bfe1d9; padding: 0.45em 0.6em; margin: 0 0.25em; line-height: 1; border-radius: 0.35em; box-decoration-break: clone; -webkit-box-decoration-break: clone\">\n",
       "    three or five years\n",
       "    <span style=\"font-size: 0.8em; font-weight: bold; line-height: 1; border-radius: 0.35em; text-transform: uppercase; vertical-align: middle; margin-left: 0.5rem\">DATE</span>\n",
       "</mark>\n",
       ", machine translation would be a solved problem.\n",
       "<mark class=\"entity\" style=\"background: #feca74; padding: 0.45em 0.6em; margin: 0 0.25em; line-height: 1; border-radius: 0.35em; box-decoration-break: clone; -webkit-box-decoration-break: clone\">\n",
       "    \n",
       "\n",
       "    <span style=\"font-size: 0.8em; font-weight: bold; line-height: 1; border-radius: 0.35em; text-transform: uppercase; vertical-align: middle; margin-left: 0.5rem\">GPE</span>\n",
       "</mark>\n",
       "However, real progress was much slower, and after the \n",
       "<mark class=\"entity\" style=\"background: #7aecec; padding: 0.45em 0.6em; margin: 0 0.25em; line-height: 1; border-radius: 0.35em; box-decoration-break: clone; -webkit-box-decoration-break: clone\">\n",
       "    ALPAC\n",
       "    <span style=\"font-size: 0.8em; font-weight: bold; line-height: 1; border-radius: 0.35em; text-transform: uppercase; vertical-align: middle; margin-left: 0.5rem\">ORG</span>\n",
       "</mark>\n",
       " report in \n",
       "<mark class=\"entity\" style=\"background: #bfe1d9; padding: 0.45em 0.6em; margin: 0 0.25em; line-height: 1; border-radius: 0.35em; box-decoration-break: clone; -webkit-box-decoration-break: clone\">\n",
       "    1966\n",
       "    <span style=\"font-size: 0.8em; font-weight: bold; line-height: 1; border-radius: 0.35em; text-transform: uppercase; vertical-align: middle; margin-left: 0.5rem\">DATE</span>\n",
       "</mark>\n",
       ", \n",
       "<mark class=\"entity\" style=\"background: #feca74; padding: 0.45em 0.6em; margin: 0 0.25em; line-height: 1; border-radius: 0.35em; box-decoration-break: clone; -webkit-box-decoration-break: clone\">\n",
       "    \n",
       "\n",
       "    <span style=\"font-size: 0.8em; font-weight: bold; line-height: 1; border-radius: 0.35em; text-transform: uppercase; vertical-align: middle; margin-left: 0.5rem\">GPE</span>\n",
       "</mark>\n",
       "which found that \n",
       "<mark class=\"entity\" style=\"background: #bfe1d9; padding: 0.45em 0.6em; margin: 0 0.25em; line-height: 1; border-radius: 0.35em; box-decoration-break: clone; -webkit-box-decoration-break: clone\">\n",
       "    ten-year-long\n",
       "    <span style=\"font-size: 0.8em; font-weight: bold; line-height: 1; border-radius: 0.35em; text-transform: uppercase; vertical-align: middle; margin-left: 0.5rem\">DATE</span>\n",
       "</mark>\n",
       " research had failed to fulfill the expectations, funding for machine translation was dramatically reduced. \n",
       "<mark class=\"entity\" style=\"background: #feca74; padding: 0.45em 0.6em; margin: 0 0.25em; line-height: 1; border-radius: 0.35em; box-decoration-break: clone; -webkit-box-decoration-break: clone\">\n",
       "    \n",
       "\n",
       "    <span style=\"font-size: 0.8em; font-weight: bold; line-height: 1; border-radius: 0.35em; text-transform: uppercase; vertical-align: middle; margin-left: 0.5rem\">GPE</span>\n",
       "</mark>\n",
       "Little further research in machine translation was conducted until \n",
       "<mark class=\"entity\" style=\"background: #bfe1d9; padding: 0.45em 0.6em; margin: 0 0.25em; line-height: 1; border-radius: 0.35em; box-decoration-break: clone; -webkit-box-decoration-break: clone\">\n",
       "    the late 1980s\n",
       "    <span style=\"font-size: 0.8em; font-weight: bold; line-height: 1; border-radius: 0.35em; text-transform: uppercase; vertical-align: middle; margin-left: 0.5rem\">DATE</span>\n",
       "</mark>\n",
       ", when the \n",
       "<mark class=\"entity\" style=\"background: #e4e7d2; padding: 0.45em 0.6em; margin: 0 0.25em; line-height: 1; border-radius: 0.35em; box-decoration-break: clone; -webkit-box-decoration-break: clone\">\n",
       "    first\n",
       "    <span style=\"font-size: 0.8em; font-weight: bold; line-height: 1; border-radius: 0.35em; text-transform: uppercase; vertical-align: middle; margin-left: 0.5rem\">ORDINAL</span>\n",
       "</mark>\n",
       " statistical machine translation systems were developed.\n",
       "<mark class=\"entity\" style=\"background: #feca74; padding: 0.45em 0.6em; margin: 0 0.25em; line-height: 1; border-radius: 0.35em; box-decoration-break: clone; -webkit-box-decoration-break: clone\">\n",
       "    \n",
       "\n",
       "    <span style=\"font-size: 0.8em; font-weight: bold; line-height: 1; border-radius: 0.35em; text-transform: uppercase; vertical-align: middle; margin-left: 0.5rem\">GPE</span>\n",
       "</mark>\n",
       "</div>"
      ],
      "text/plain": [
       "<IPython.core.display.HTML object>"
      ]
     },
     "metadata": {},
     "output_type": "display_data"
    }
   ],
   "source": [
    "doc.user_data['title'] = 'An Introduction to Text Mining'\n",
    "displacy.render(doc, style = 'ent', jupyter = True)"
   ]
  },
  {
   "cell_type": "markdown",
   "metadata": {
    "slideshow": {
     "slide_type": "slide"
    }
   },
   "source": [
    "# The NLTK Library\n",
    "\n",
    "![](images/nltk.png)"
   ]
  },
  {
   "cell_type": "markdown",
   "metadata": {
    "slideshow": {
     "slide_type": "slide"
    }
   },
   "source": [
    "# TextBlob\n",
    "\n",
    "![](images/textblob.png)"
   ]
  },
  {
   "cell_type": "markdown",
   "metadata": {
    "slideshow": {
     "slide_type": "slide"
    }
   },
   "source": [
    "# SpaCy\n",
    "\n",
    "![](images/spacy.png)"
   ]
  },
  {
   "cell_type": "markdown",
   "metadata": {
    "slideshow": {
     "slide_type": "slide"
    }
   },
   "source": [
    "## Pitchfork Album Reviews\n",
    "\n",
    "![](images/pitchfork.png)\n"
   ]
  },
  {
   "cell_type": "code",
   "execution_count": 5,
   "metadata": {
    "slideshow": {
     "slide_type": "subslide"
    }
   },
   "outputs": [],
   "source": [
    "import pandas as pd"
   ]
  },
  {
   "cell_type": "code",
   "execution_count": 6,
   "metadata": {
    "slideshow": {
     "slide_type": "fragment"
    }
   },
   "outputs": [],
   "source": [
    "#load the data\n",
    "songs = pd.read_json('data/big_one.json')"
   ]
  },
  {
   "cell_type": "code",
   "execution_count": 7,
   "metadata": {
    "slideshow": {
     "slide_type": "subslide"
    }
   },
   "outputs": [
    {
     "data": {
      "text/html": [
       "<div>\n",
       "<style scoped>\n",
       "    .dataframe tbody tr th:only-of-type {\n",
       "        vertical-align: middle;\n",
       "    }\n",
       "\n",
       "    .dataframe tbody tr th {\n",
       "        vertical-align: top;\n",
       "    }\n",
       "\n",
       "    .dataframe thead th {\n",
       "        text-align: right;\n",
       "    }\n",
       "</style>\n",
       "<table border=\"1\" class=\"dataframe\">\n",
       "  <thead>\n",
       "    <tr style=\"text-align: right;\">\n",
       "      <th></th>\n",
       "      <th>album</th>\n",
       "      <th>artists</th>\n",
       "      <th>text</th>\n",
       "    </tr>\n",
       "  </thead>\n",
       "  <tbody>\n",
       "    <tr>\n",
       "      <th>0</th>\n",
       "      <td>[Not for Sale]</td>\n",
       "      <td>[Smoke DZA]</td>\n",
       "      <td>[Harlem rapper Smoke DZA keeps it real on , , ...</td>\n",
       "    </tr>\n",
       "    <tr>\n",
       "      <th>1</th>\n",
       "      <td>[Loud Patterns]</td>\n",
       "      <td>[Makeness]</td>\n",
       "      <td>[The first full-length album from the British ...</td>\n",
       "    </tr>\n",
       "    <tr>\n",
       "      <th>2</th>\n",
       "      <td>[am i happy, singing_]</td>\n",
       "      <td>[Ricky Eat Acid]</td>\n",
       "      <td>[On this three-track album from Sam Ray’s elec...</td>\n",
       "    </tr>\n",
       "    <tr>\n",
       "      <th>3</th>\n",
       "      <td>[Ceremony of Dreams: Studio Sessions &amp; Outtake...</td>\n",
       "      <td>[Entourage]</td>\n",
       "      <td>[The unearthing of these odd compositions from...</td>\n",
       "    </tr>\n",
       "    <tr>\n",
       "      <th>4</th>\n",
       "      <td>[My Dear Melancholy,]</td>\n",
       "      <td>[The Weeknd]</td>\n",
       "      <td>[The Weeknd’s new six-song album finds him in ...</td>\n",
       "    </tr>\n",
       "  </tbody>\n",
       "</table>\n",
       "</div>"
      ],
      "text/plain": [
       "                                               album           artists  \\\n",
       "0                                     [Not for Sale]       [Smoke DZA]   \n",
       "1                                    [Loud Patterns]        [Makeness]   \n",
       "2                             [am i happy, singing_]  [Ricky Eat Acid]   \n",
       "3  [Ceremony of Dreams: Studio Sessions & Outtake...       [Entourage]   \n",
       "4                              [My Dear Melancholy,]      [The Weeknd]   \n",
       "\n",
       "                                                text  \n",
       "0  [Harlem rapper Smoke DZA keeps it real on , , ...  \n",
       "1  [The first full-length album from the British ...  \n",
       "2  [On this three-track album from Sam Ray’s elec...  \n",
       "3  [The unearthing of these odd compositions from...  \n",
       "4  [The Weeknd’s new six-song album finds him in ...  "
      ]
     },
     "execution_count": 7,
     "metadata": {},
     "output_type": "execute_result"
    }
   ],
   "source": [
    "#take a peek at the first five rows\n",
    "songs.head()"
   ]
  },
  {
   "cell_type": "code",
   "execution_count": 8,
   "metadata": {
    "slideshow": {
     "slide_type": "slide"
    }
   },
   "outputs": [],
   "source": [
    "#clean up the data in \n",
    "#anticipation of NLP\n",
    "for i in songs.columns:\n",
    "    songs[i] = songs[i].apply(lambda x: ''.join(x))"
   ]
  },
  {
   "cell_type": "code",
   "execution_count": 9,
   "metadata": {
    "slideshow": {
     "slide_type": "subslide"
    }
   },
   "outputs": [
    {
     "data": {
      "text/html": [
       "<div>\n",
       "<style scoped>\n",
       "    .dataframe tbody tr th:only-of-type {\n",
       "        vertical-align: middle;\n",
       "    }\n",
       "\n",
       "    .dataframe tbody tr th {\n",
       "        vertical-align: top;\n",
       "    }\n",
       "\n",
       "    .dataframe thead th {\n",
       "        text-align: right;\n",
       "    }\n",
       "</style>\n",
       "<table border=\"1\" class=\"dataframe\">\n",
       "  <thead>\n",
       "    <tr style=\"text-align: right;\">\n",
       "      <th></th>\n",
       "      <th>album</th>\n",
       "      <th>artists</th>\n",
       "      <th>text</th>\n",
       "    </tr>\n",
       "  </thead>\n",
       "  <tbody>\n",
       "    <tr>\n",
       "      <th>0</th>\n",
       "      <td>Not for Sale</td>\n",
       "      <td>Smoke DZA</td>\n",
       "      <td>Harlem rapper Smoke DZA keeps it real on , dou...</td>\n",
       "    </tr>\n",
       "    <tr>\n",
       "      <th>1</th>\n",
       "      <td>Loud Patterns</td>\n",
       "      <td>Makeness</td>\n",
       "      <td>The first full-length album from the British s...</td>\n",
       "    </tr>\n",
       "    <tr>\n",
       "      <th>2</th>\n",
       "      <td>am i happy, singing_</td>\n",
       "      <td>Ricky Eat Acid</td>\n",
       "      <td>On this three-track album from Sam Ray’s elect...</td>\n",
       "    </tr>\n",
       "    <tr>\n",
       "      <th>3</th>\n",
       "      <td>Ceremony of Dreams: Studio Sessions &amp; Outtakes...</td>\n",
       "      <td>Entourage</td>\n",
       "      <td>The unearthing of these odd compositions from ...</td>\n",
       "    </tr>\n",
       "    <tr>\n",
       "      <th>4</th>\n",
       "      <td>My Dear Melancholy,</td>\n",
       "      <td>The Weeknd</td>\n",
       "      <td>The Weeknd’s new six-song album finds him in l...</td>\n",
       "    </tr>\n",
       "  </tbody>\n",
       "</table>\n",
       "</div>"
      ],
      "text/plain": [
       "                                               album         artists  \\\n",
       "0                                       Not for Sale       Smoke DZA   \n",
       "1                                      Loud Patterns        Makeness   \n",
       "2                               am i happy, singing_  Ricky Eat Acid   \n",
       "3  Ceremony of Dreams: Studio Sessions & Outtakes...       Entourage   \n",
       "4                                My Dear Melancholy,      The Weeknd   \n",
       "\n",
       "                                                text  \n",
       "0  Harlem rapper Smoke DZA keeps it real on , dou...  \n",
       "1  The first full-length album from the British s...  \n",
       "2  On this three-track album from Sam Ray’s elect...  \n",
       "3  The unearthing of these odd compositions from ...  \n",
       "4  The Weeknd’s new six-song album finds him in l...  "
      ]
     },
     "execution_count": 9,
     "metadata": {},
     "output_type": "execute_result"
    }
   ],
   "source": [
    "songs.head()"
   ]
  },
  {
   "cell_type": "code",
   "execution_count": 10,
   "metadata": {
    "slideshow": {
     "slide_type": "slide"
    }
   },
   "outputs": [
    {
     "data": {
      "text/plain": [
       "'Harlem rapper Smoke DZA keeps it real on , doubling down on classic hip-hop as he’s got an allergy to trends. That’s mostly a good thing.Harlem rapper ’s  is a memorandum for culture vultures, those outsiders who, in his mind, are trying to pollute rap, and those industry insiders trying to sap its swagger for their own personal gain. DZA is a classicist, and he derides those in the game selling out, all while listing off the things money can’t buy them—the love, smoothness, the culture, the cool. If 2016’s  with Bronx legend and rap super-producer  was DZA’s taking a stand in deed, aligning himself with a cultural icon, then this is him writing new bylaws. These are DZA’s 12 rap commandments, in which he extols the mid-grade hustler.DZA’s rap philosophy is to always err on the side of caution. This can make him a bit of a conservative music-maker, but it also makes him relatively dependable. He presents a lifestyle of subtle comfort and his verses are capo proverbs rapped through kush'"
      ]
     },
     "execution_count": 10,
     "metadata": {},
     "output_type": "execute_result"
    }
   ],
   "source": [
    "#look at first review\n",
    "songs['text'][0][:1000]"
   ]
  },
  {
   "cell_type": "code",
   "execution_count": 11,
   "metadata": {
    "slideshow": {
     "slide_type": "slide"
    }
   },
   "outputs": [],
   "source": [
    "from nltk import word_tokenize"
   ]
  },
  {
   "cell_type": "code",
   "execution_count": 12,
   "metadata": {
    "slideshow": {
     "slide_type": "fragment"
    }
   },
   "outputs": [],
   "source": [
    "tokes = word_tokenize(songs['text'][0])"
   ]
  },
  {
   "cell_type": "code",
   "execution_count": 13,
   "metadata": {
    "slideshow": {
     "slide_type": "subslide"
    }
   },
   "outputs": [
    {
     "data": {
      "text/plain": [
       "['Harlem',\n",
       " 'rapper',\n",
       " 'Smoke',\n",
       " 'DZA',\n",
       " 'keeps',\n",
       " 'it',\n",
       " 'real',\n",
       " 'on',\n",
       " ',',\n",
       " 'doubling']"
      ]
     },
     "execution_count": 13,
     "metadata": {},
     "output_type": "execute_result"
    }
   ],
   "source": [
    "tokes[:10]"
   ]
  },
  {
   "cell_type": "code",
   "execution_count": 14,
   "metadata": {
    "slideshow": {
     "slide_type": "slide"
    }
   },
   "outputs": [],
   "source": [
    "#getting frequencies\n",
    "import nltk"
   ]
  },
  {
   "cell_type": "code",
   "execution_count": 15,
   "metadata": {
    "slideshow": {
     "slide_type": "fragment"
    }
   },
   "outputs": [],
   "source": [
    "fdist = nltk.FreqDist(tokes)"
   ]
  },
  {
   "cell_type": "code",
   "execution_count": 16,
   "metadata": {
    "slideshow": {
     "slide_type": "subslide"
    }
   },
   "outputs": [
    {
     "data": {
      "text/plain": [
       "[(',', 61),\n",
       " ('’', 38),\n",
       " ('the', 25),\n",
       " ('.', 24),\n",
       " ('s', 22),\n",
       " ('a', 18),\n",
       " ('his', 18),\n",
       " ('to', 17),\n",
       " ('and', 16),\n",
       " ('of', 16)]"
      ]
     },
     "execution_count": 16,
     "metadata": {},
     "output_type": "execute_result"
    }
   ],
   "source": [
    "fdist.most_common(10)"
   ]
  },
  {
   "cell_type": "code",
   "execution_count": 17,
   "metadata": {
    "slideshow": {
     "slide_type": "slide"
    }
   },
   "outputs": [
    {
     "data": {
      "image/png": "[encoded data removed]",
      "text/plain": [
       "<matplotlib.figure.Figure at 0x1168e5ef0>"
      ]
     },
     "metadata": {},
     "output_type": "display_data"
    }
   ],
   "source": [
    "fdist.plot(20)"
   ]
  },
  {
   "cell_type": "markdown",
   "metadata": {
    "slideshow": {
     "slide_type": "slide"
    }
   },
   "source": [
    "### Stopword Removal"
   ]
  },
  {
   "cell_type": "code",
   "execution_count": 18,
   "metadata": {
    "slideshow": {
     "slide_type": "fragment"
    }
   },
   "outputs": [],
   "source": [
    "from nltk.corpus import stopwords"
   ]
  },
  {
   "cell_type": "code",
   "execution_count": 19,
   "metadata": {
    "slideshow": {
     "slide_type": "subslide"
    }
   },
   "outputs": [
    {
     "data": {
      "text/plain": [
       "{'he',\n",
       " 'him',\n",
       " 'his',\n",
       " 'i',\n",
       " 'me',\n",
       " 'my',\n",
       " 'myself',\n",
       " 'our',\n",
       " 'ours',\n",
       " 'ourselves',\n",
       " 'we',\n",
       " 'you',\n",
       " \"you'd\",\n",
       " \"you'll\",\n",
       " \"you're\",\n",
       " \"you've\",\n",
       " 'your',\n",
       " 'yours',\n",
       " 'yourself',\n",
       " 'yourselves'}"
      ]
     },
     "execution_count": 19,
     "metadata": {},
     "output_type": "execute_result"
    }
   ],
   "source": [
    "set(stopwords.words('english')[:20])"
   ]
  },
  {
   "cell_type": "code",
   "execution_count": 20,
   "metadata": {
    "slideshow": {
     "slide_type": "slide"
    }
   },
   "outputs": [
    {
     "name": "stdout",
     "output_type": "stream",
     "text": [
      "The original review 887\n",
      "and the filtered 561\n"
     ]
    }
   ],
   "source": [
    "from nltk.corpus import stopwords\n",
    "stopwords = set(stopwords.words('english'))\n",
    "filtered_review = [w for w in tokes if not w in stopwords]\n",
    "print('The original review {}\\nand the filtered {}'.format(len(tokes), len(filtered_review)))"
   ]
  },
  {
   "cell_type": "code",
   "execution_count": 21,
   "metadata": {
    "slideshow": {
     "slide_type": "subslide"
    }
   },
   "outputs": [
    {
     "data": {
      "text/plain": [
       "['Harlem',\n",
       " 'rapper',\n",
       " 'Smoke',\n",
       " 'DZA',\n",
       " 'keeps',\n",
       " 'real',\n",
       " ',',\n",
       " 'doubling',\n",
       " 'classic',\n",
       " 'hip-hop']"
      ]
     },
     "execution_count": 21,
     "metadata": {},
     "output_type": "execute_result"
    }
   ],
   "source": [
    "filtered_review[:10]"
   ]
  },
  {
   "cell_type": "markdown",
   "metadata": {
    "slideshow": {
     "slide_type": "slide"
    }
   },
   "source": [
    "### Regular Expression filtering"
   ]
  },
  {
   "cell_type": "code",
   "execution_count": 22,
   "metadata": {
    "slideshow": {
     "slide_type": "fragment"
    }
   },
   "outputs": [],
   "source": [
    "import re\n",
    "review_words = re.split(r'\\W+', songs['text'][0])"
   ]
  },
  {
   "cell_type": "code",
   "execution_count": 23,
   "metadata": {
    "slideshow": {
     "slide_type": "subslide"
    }
   },
   "outputs": [
    {
     "data": {
      "image/png": "[encoded data removed]",
      "text/plain": [
       "<matplotlib.figure.Figure at 0x1171e6a90>"
      ]
     },
     "metadata": {},
     "output_type": "display_data"
    }
   ],
   "source": [
    "fdist = nltk.FreqDist(review_words)\n",
    "fdist.plot(20)"
   ]
  },
  {
   "cell_type": "code",
   "execution_count": 24,
   "metadata": {
    "slideshow": {
     "slide_type": "slide"
    }
   },
   "outputs": [
    {
     "name": "stdout",
     "output_type": "stream",
     "text": [
      "The original review 887\n",
      "and the filtered 420\n"
     ]
    }
   ],
   "source": [
    "from nltk.corpus import stopwords\n",
    "stopwords = set(stopwords.words('english'))\n",
    "filtered_review = [w for w in review_words if not w in stopwords]\n",
    "print('The original review {}\\nand the filtered {}'.format(len(tokes), len(filtered_review)))                "
   ]
  },
  {
   "cell_type": "code",
   "execution_count": 25,
   "metadata": {
    "slideshow": {
     "slide_type": "subslide"
    }
   },
   "outputs": [
    {
     "data": {
      "image/png": "[encoded data removed]",
      "text/plain": [
       "<matplotlib.figure.Figure at 0x1173a88d0>"
      ]
     },
     "metadata": {},
     "output_type": "display_data"
    }
   ],
   "source": [
    "fdist = nltk.FreqDist(filtered_review)\n",
    "fdist.plot(20)"
   ]
  },
  {
   "cell_type": "code",
   "execution_count": 26,
   "metadata": {
    "slideshow": {
     "slide_type": "slide"
    }
   },
   "outputs": [],
   "source": [
    "%matplotlib inline\n",
    "import matplotlib.pyplot as plt\n",
    "import numpy as np"
   ]
  },
  {
   "cell_type": "code",
   "execution_count": 27,
   "metadata": {
    "slideshow": {
     "slide_type": "subslide"
    }
   },
   "outputs": [],
   "source": [
    "x = np.arange(len(list(fdist.keys())))\n",
    "y = list(fdist.values())\n",
    "labels = list(fdist.keys())"
   ]
  },
  {
   "cell_type": "code",
   "execution_count": 28,
   "metadata": {
    "slideshow": {
     "slide_type": "subslide"
    }
   },
   "outputs": [
    {
     "data": {
      "image/png": "[encoded data removed]",
      "text/plain": [
       "<matplotlib.figure.Figure at 0x1171754a8>"
      ]
     },
     "metadata": {},
     "output_type": "display_data"
    }
   ],
   "source": [
    "plt.figure(figsize = (11,4))\n",
    "plt.bar(x[:10], y[:10])\n",
    "plt.xticks(x[:10]+ 0.4, labels[:10], rotation = 90);"
   ]
  },
  {
   "cell_type": "markdown",
   "metadata": {
    "slideshow": {
     "slide_type": "slide"
    }
   },
   "source": [
    "### Most Common Words"
   ]
  },
  {
   "cell_type": "code",
   "execution_count": 29,
   "metadata": {
    "slideshow": {
     "slide_type": "subslide"
    }
   },
   "outputs": [
    {
     "data": {
      "text/plain": [
       "[('DZA', 14),\n",
       " ('He', 9),\n",
       " ('rap', 8),\n",
       " ('The', 8),\n",
       " ('like', 4),\n",
       " ('raps', 4),\n",
       " ('even', 4),\n",
       " ('rapper', 3),\n",
       " ('Smoke', 3),\n",
       " ('things', 3)]"
      ]
     },
     "execution_count": 29,
     "metadata": {},
     "output_type": "execute_result"
    }
   ],
   "source": [
    "fdist.most_common(10)"
   ]
  },
  {
   "cell_type": "code",
   "execution_count": 30,
   "metadata": {
    "slideshow": {
     "slide_type": "subslide"
    }
   },
   "outputs": [],
   "source": [
    "x = np.arange(10)\n",
    "y = [i[1] for i in fdist.most_common(10)]\n",
    "labels = [i[0] for i in fdist.most_common(10)]"
   ]
  },
  {
   "cell_type": "code",
   "execution_count": 31,
   "metadata": {
    "slideshow": {
     "slide_type": "subslide"
    }
   },
   "outputs": [
    {
     "data": {
      "image/png": "[encoded data removed]",
      "text/plain": [
       "<matplotlib.figure.Figure at 0x117646cc0>"
      ]
     },
     "metadata": {},
     "output_type": "display_data"
    }
   ],
   "source": [
    "plt.figure(figsize = (12,4))\n",
    "plt.bar(x[:10], y[:10], color = 'lightblue')\n",
    "plt.xticks(x[:10]+ 0.4, labels[:10]);"
   ]
  },
  {
   "cell_type": "markdown",
   "metadata": {
    "slideshow": {
     "slide_type": "slide"
    }
   },
   "source": [
    "## Sentiment Analysis\n",
    "\n",
    "from Wikipedia page on [List of music considered the worst](https://en.wikipedia.org/wiki/List_of_music_considered_the_worst)\n",
    "> *\"Sgt. Pepper's Lonely Hearts Club Band, The Beatles (1967) \n",
    "Voted the worst record ever made in a 1998 Melody Maker poll of pop stars, DJs, and journalists.[3] Among the harshest detractors was musician and journalist John Robb, who described the album as \"the benchmark of 1967 - the low water point of rock 'n' roll\".[3] Guardian critic Richard Smith wrote that it is, \"if not the worst, then certainly the most overrated album of all time.\" He also contended that the \"excruciating\" LP was often ranked by members of the music press as the best ever due to affection for its cultural impact, and \"not because of anything intrinsically great about the record\".[4] Billy Childish was asked in 2007 to nominate the \"supposedly great\" album that he would \"gladly never hear again\", and he named Sgt. Pepper's Lonely Hearts Club Band and argued that it \"signalled the death of rock 'n' roll\".[5] Musician and author Bill Drummond called the record \"the worst thing that ever happened to music\".*"
   ]
  },
  {
   "cell_type": "code",
   "execution_count": 32,
   "metadata": {
    "slideshow": {
     "slide_type": "subslide"
    }
   },
   "outputs": [],
   "source": [
    "from textblob import TextBlob\n",
    "blob = TextBlob(songs['text'][0])"
   ]
  },
  {
   "cell_type": "code",
   "execution_count": 33,
   "metadata": {
    "slideshow": {
     "slide_type": "subslide"
    }
   },
   "outputs": [
    {
     "name": "stdout",
     "output_type": "stream",
     "text": [
      "Harlem rapper Smoke DZA keeps it real on , doublin 0.07037037037037036\n",
      "That’s mostly a good thing.Harlem rapper ’s  is a  0.4333333333333333\n",
      "DZA is a classicist, and he derides those in the g 0.15\n",
      "If 2016’s  with Bronx legend and rap super-produce 0.11818181818181818\n",
      "These are DZA’s 12 rap commandments, in which he e 0.0\n"
     ]
    }
   ],
   "source": [
    "for sentence in blob.sentences[:5]:\n",
    "    print(sentence[:50], sentence.sentiment.polarity)"
   ]
  },
  {
   "cell_type": "code",
   "execution_count": 34,
   "metadata": {
    "slideshow": {
     "slide_type": "fragment"
    }
   },
   "outputs": [
    {
     "data": {
      "text/plain": [
       "0.17559934509934505"
      ]
     },
     "execution_count": 34,
     "metadata": {},
     "output_type": "execute_result"
    }
   ],
   "source": [
    "blob.sentiment.polarity"
   ]
  },
  {
   "cell_type": "code",
   "execution_count": 35,
   "metadata": {
    "slideshow": {
     "slide_type": "fragment"
    }
   },
   "outputs": [
    {
     "data": {
      "text/plain": [
       "0.4680952935952934"
      ]
     },
     "execution_count": 35,
     "metadata": {},
     "output_type": "execute_result"
    }
   ],
   "source": [
    "blob.sentiment.subjectivity"
   ]
  },
  {
   "cell_type": "code",
   "execution_count": 36,
   "metadata": {
    "slideshow": {
     "slide_type": "slide"
    }
   },
   "outputs": [],
   "source": [
    "pos_words = ['great', 'excellent', 'dope', 'good', 'amazing', 'ill']\n",
    "neg_words = ['bad', 'terrible', 'awful', 'weak', 'stupid', 'boring']"
   ]
  },
  {
   "cell_type": "code",
   "execution_count": 37,
   "metadata": {
    "slideshow": {
     "slide_type": "subslide"
    }
   },
   "outputs": [],
   "source": [
    "pos = neg = 0\n",
    "for i in songs.text:\n",
    "    blob = TextBlob(i)\n",
    "    for word in blob.words:\n",
    "        if word in pos_words:\n",
    "            pos += 1\n",
    "        if word in neg_words:\n",
    "            neg += 1"
   ]
  },
  {
   "cell_type": "code",
   "execution_count": 38,
   "metadata": {
    "slideshow": {
     "slide_type": "fragment"
    }
   },
   "outputs": [
    {
     "data": {
      "text/plain": [
       "435"
      ]
     },
     "execution_count": 38,
     "metadata": {},
     "output_type": "execute_result"
    }
   ],
   "source": [
    "pos"
   ]
  },
  {
   "cell_type": "code",
   "execution_count": 39,
   "metadata": {
    "slideshow": {
     "slide_type": "fragment"
    }
   },
   "outputs": [
    {
     "data": {
      "text/plain": [
       "120"
      ]
     },
     "execution_count": 39,
     "metadata": {},
     "output_type": "execute_result"
    }
   ],
   "source": [
    "neg"
   ]
  },
  {
   "cell_type": "markdown",
   "metadata": {
    "slideshow": {
     "slide_type": "slide"
    }
   },
   "source": [
    "### Determining the Best and Worst Albums\n",
    "\n",
    "TextBlob's sentiment analyzer has been trained on a movie review corpus, so it could give nice insight into the quality of an album.  "
   ]
  },
  {
   "cell_type": "code",
   "execution_count": 40,
   "metadata": {
    "slideshow": {
     "slide_type": "subslide"
    }
   },
   "outputs": [],
   "source": [
    "#find sentiment of each review\n",
    "songs['sentiment'] = songs.text.apply(lambda x: TextBlob(x).sentiment.polarity)"
   ]
  },
  {
   "cell_type": "code",
   "execution_count": 41,
   "metadata": {
    "slideshow": {
     "slide_type": "subslide"
    }
   },
   "outputs": [
    {
     "data": {
      "text/html": [
       "<div>\n",
       "<style scoped>\n",
       "    .dataframe tbody tr th:only-of-type {\n",
       "        vertical-align: middle;\n",
       "    }\n",
       "\n",
       "    .dataframe tbody tr th {\n",
       "        vertical-align: top;\n",
       "    }\n",
       "\n",
       "    .dataframe thead th {\n",
       "        text-align: right;\n",
       "    }\n",
       "</style>\n",
       "<table border=\"1\" class=\"dataframe\">\n",
       "  <thead>\n",
       "    <tr style=\"text-align: right;\">\n",
       "      <th></th>\n",
       "      <th>album</th>\n",
       "      <th>artists</th>\n",
       "      <th>text</th>\n",
       "      <th>sentiment</th>\n",
       "    </tr>\n",
       "  </thead>\n",
       "  <tbody>\n",
       "    <tr>\n",
       "      <th>0</th>\n",
       "      <td>Not for Sale</td>\n",
       "      <td>Smoke DZA</td>\n",
       "      <td>Harlem rapper Smoke DZA keeps it real on , dou...</td>\n",
       "      <td>0.175599</td>\n",
       "    </tr>\n",
       "    <tr>\n",
       "      <th>1</th>\n",
       "      <td>Loud Patterns</td>\n",
       "      <td>Makeness</td>\n",
       "      <td>The first full-length album from the British s...</td>\n",
       "      <td>0.119350</td>\n",
       "    </tr>\n",
       "    <tr>\n",
       "      <th>2</th>\n",
       "      <td>am i happy, singing_</td>\n",
       "      <td>Ricky Eat Acid</td>\n",
       "      <td>On this three-track album from Sam Ray’s elect...</td>\n",
       "      <td>0.169092</td>\n",
       "    </tr>\n",
       "    <tr>\n",
       "      <th>3</th>\n",
       "      <td>Ceremony of Dreams: Studio Sessions &amp; Outtakes...</td>\n",
       "      <td>Entourage</td>\n",
       "      <td>The unearthing of these odd compositions from ...</td>\n",
       "      <td>0.113756</td>\n",
       "    </tr>\n",
       "    <tr>\n",
       "      <th>4</th>\n",
       "      <td>My Dear Melancholy,</td>\n",
       "      <td>The Weeknd</td>\n",
       "      <td>The Weeknd’s new six-song album finds him in l...</td>\n",
       "      <td>0.038336</td>\n",
       "    </tr>\n",
       "  </tbody>\n",
       "</table>\n",
       "</div>"
      ],
      "text/plain": [
       "                                               album         artists  \\\n",
       "0                                       Not for Sale       Smoke DZA   \n",
       "1                                      Loud Patterns        Makeness   \n",
       "2                               am i happy, singing_  Ricky Eat Acid   \n",
       "3  Ceremony of Dreams: Studio Sessions & Outtakes...       Entourage   \n",
       "4                                My Dear Melancholy,      The Weeknd   \n",
       "\n",
       "                                                text  sentiment  \n",
       "0  Harlem rapper Smoke DZA keeps it real on , dou...   0.175599  \n",
       "1  The first full-length album from the British s...   0.119350  \n",
       "2  On this three-track album from Sam Ray’s elect...   0.169092  \n",
       "3  The unearthing of these odd compositions from ...   0.113756  \n",
       "4  The Weeknd’s new six-song album finds him in l...   0.038336  "
      ]
     },
     "execution_count": 41,
     "metadata": {},
     "output_type": "execute_result"
    }
   ],
   "source": [
    "songs.head()"
   ]
  },
  {
   "cell_type": "code",
   "execution_count": 42,
   "metadata": {
    "slideshow": {
     "slide_type": "subslide"
    }
   },
   "outputs": [
    {
     "data": {
      "text/html": [
       "<div>\n",
       "<style scoped>\n",
       "    .dataframe tbody tr th:only-of-type {\n",
       "        vertical-align: middle;\n",
       "    }\n",
       "\n",
       "    .dataframe tbody tr th {\n",
       "        vertical-align: top;\n",
       "    }\n",
       "\n",
       "    .dataframe thead th {\n",
       "        text-align: right;\n",
       "    }\n",
       "</style>\n",
       "<table border=\"1\" class=\"dataframe\">\n",
       "  <thead>\n",
       "    <tr style=\"text-align: right;\">\n",
       "      <th></th>\n",
       "      <th>album</th>\n",
       "      <th>artists</th>\n",
       "      <th>text</th>\n",
       "      <th>sentiment</th>\n",
       "    </tr>\n",
       "  </thead>\n",
       "  <tbody>\n",
       "    <tr>\n",
       "      <th>540</th>\n",
       "      <td>Bajas Fresh</td>\n",
       "      <td>Bitchin Bajas</td>\n",
       "      <td>Over seven tracks that span 80 minutes, the ex...</td>\n",
       "      <td>0.301116</td>\n",
       "    </tr>\n",
       "    <tr>\n",
       "      <th>241</th>\n",
       "      <td>Drum Dance to the Motherland</td>\n",
       "      <td>The Khan Jamal Creative Arts Ensemble</td>\n",
       "      <td>A long-forgotten gem of experimental jazz gets...</td>\n",
       "      <td>0.276320</td>\n",
       "    </tr>\n",
       "    <tr>\n",
       "      <th>580</th>\n",
       "      <td>Say Less</td>\n",
       "      <td>Roy Wood$</td>\n",
       "      <td>OVO Sound signee Roy Wood$ offers a chilled-ou...</td>\n",
       "      <td>0.271008</td>\n",
       "    </tr>\n",
       "    <tr>\n",
       "      <th>475</th>\n",
       "      <td>The Space Between</td>\n",
       "      <td>Majid Jordan</td>\n",
       "      <td>The refined sophomore album from Majid Jordan—...</td>\n",
       "      <td>0.268265</td>\n",
       "    </tr>\n",
       "    <tr>\n",
       "      <th>571</th>\n",
       "      <td>Yes Lawd! Remixes</td>\n",
       "      <td>NxWorries</td>\n",
       "      <td>On this collection of remixes from Anderson .P...</td>\n",
       "      <td>0.267699</td>\n",
       "    </tr>\n",
       "    <tr>\n",
       "      <th>267</th>\n",
       "      <td>November</td>\n",
       "      <td>SiR</td>\n",
       "      <td>The Inglewood artist’s first album as Kendrick...</td>\n",
       "      <td>0.251643</td>\n",
       "    </tr>\n",
       "    <tr>\n",
       "      <th>7</th>\n",
       "      <td>Universal Love: Wedding Songs Reimagined EP</td>\n",
       "      <td></td>\n",
       "      <td>Featuring Bob Dylan, St. Vincent, and Ben Gibb...</td>\n",
       "      <td>0.248650</td>\n",
       "    </tr>\n",
       "    <tr>\n",
       "      <th>396</th>\n",
       "      <td>Room Inside the World</td>\n",
       "      <td>Ought</td>\n",
       "      <td>Ought’s third album straightens out their soun...</td>\n",
       "      <td>0.247076</td>\n",
       "    </tr>\n",
       "    <tr>\n",
       "      <th>260</th>\n",
       "      <td>Phantom Thread Original Motion Picture Soundtrack</td>\n",
       "      <td>Jonny Greenwood</td>\n",
       "      <td>Recorded with a 60-piece orchestra, the Radioh...</td>\n",
       "      <td>0.246984</td>\n",
       "    </tr>\n",
       "    <tr>\n",
       "      <th>205</th>\n",
       "      <td>Hexadic III</td>\n",
       "      <td></td>\n",
       "      <td>Six Organs of Admittance’s Ben Chasny invites ...</td>\n",
       "      <td>0.244322</td>\n",
       "    </tr>\n",
       "  </tbody>\n",
       "</table>\n",
       "</div>"
      ],
      "text/plain": [
       "                                                 album  \\\n",
       "540                                        Bajas Fresh   \n",
       "241                       Drum Dance to the Motherland   \n",
       "580                                           Say Less   \n",
       "475                                  The Space Between   \n",
       "571                                  Yes Lawd! Remixes   \n",
       "267                                           November   \n",
       "7          Universal Love: Wedding Songs Reimagined EP   \n",
       "396                              Room Inside the World   \n",
       "260  Phantom Thread Original Motion Picture Soundtrack   \n",
       "205                                        Hexadic III   \n",
       "\n",
       "                                   artists  \\\n",
       "540                          Bitchin Bajas   \n",
       "241  The Khan Jamal Creative Arts Ensemble   \n",
       "580                              Roy Wood$   \n",
       "475                           Majid Jordan   \n",
       "571                              NxWorries   \n",
       "267                                    SiR   \n",
       "7                                            \n",
       "396                                  Ought   \n",
       "260                        Jonny Greenwood   \n",
       "205                                          \n",
       "\n",
       "                                                  text  sentiment  \n",
       "540  Over seven tracks that span 80 minutes, the ex...   0.301116  \n",
       "241  A long-forgotten gem of experimental jazz gets...   0.276320  \n",
       "580  OVO Sound signee Roy Wood$ offers a chilled-ou...   0.271008  \n",
       "475  The refined sophomore album from Majid Jordan—...   0.268265  \n",
       "571  On this collection of remixes from Anderson .P...   0.267699  \n",
       "267  The Inglewood artist’s first album as Kendrick...   0.251643  \n",
       "7    Featuring Bob Dylan, St. Vincent, and Ben Gibb...   0.248650  \n",
       "396  Ought’s third album straightens out their soun...   0.247076  \n",
       "260  Recorded with a 60-piece orchestra, the Radioh...   0.246984  \n",
       "205  Six Organs of Admittance’s Ben Chasny invites ...   0.244322  "
      ]
     },
     "execution_count": 42,
     "metadata": {},
     "output_type": "execute_result"
    }
   ],
   "source": [
    "songs.nlargest(10, 'sentiment')"
   ]
  },
  {
   "cell_type": "code",
   "execution_count": 43,
   "metadata": {
    "slideshow": {
     "slide_type": "slide"
    }
   },
   "outputs": [
    {
     "data": {
      "text/plain": [
       "' Crain’s hopes are realized on , an album worth hanging on your wall and staring at for a long time.'"
      ]
     },
     "execution_count": 43,
     "metadata": {},
     "output_type": "execute_result"
    }
   ],
   "source": [
    "songs.loc[540, 'text'][-100:]"
   ]
  },
  {
   "cell_type": "code",
   "execution_count": 44,
   "metadata": {
    "slideshow": {
     "slide_type": "subslide"
    }
   },
   "outputs": [
    {
     "data": {
      "text/html": [
       "<div>\n",
       "<style scoped>\n",
       "    .dataframe tbody tr th:only-of-type {\n",
       "        vertical-align: middle;\n",
       "    }\n",
       "\n",
       "    .dataframe tbody tr th {\n",
       "        vertical-align: top;\n",
       "    }\n",
       "\n",
       "    .dataframe thead th {\n",
       "        text-align: right;\n",
       "    }\n",
       "</style>\n",
       "<table border=\"1\" class=\"dataframe\">\n",
       "  <thead>\n",
       "    <tr style=\"text-align: right;\">\n",
       "      <th></th>\n",
       "      <th>album</th>\n",
       "      <th>artists</th>\n",
       "      <th>text</th>\n",
       "      <th>sentiment</th>\n",
       "    </tr>\n",
       "  </thead>\n",
       "  <tbody>\n",
       "    <tr>\n",
       "      <th>237</th>\n",
       "      <td>The Beautiful &amp; Damned</td>\n",
       "      <td>G-Eazy</td>\n",
       "      <td>The new album from Oakland rapper G-Eazy is a ...</td>\n",
       "      <td>-0.080848</td>\n",
       "    </tr>\n",
       "    <tr>\n",
       "      <th>555</th>\n",
       "      <td>No Shame</td>\n",
       "      <td>Hopsin</td>\n",
       "      <td>On his corrosive fifth album, the rapper takes...</td>\n",
       "      <td>-0.073474</td>\n",
       "    </tr>\n",
       "    <tr>\n",
       "      <th>487</th>\n",
       "      <td>Rest</td>\n",
       "      <td>Charlotte Gainsbourg</td>\n",
       "      <td>Best new musicSung mostly in French, Gainsbour...</td>\n",
       "      <td>-0.039959</td>\n",
       "    </tr>\n",
       "    <tr>\n",
       "      <th>141</th>\n",
       "      <td>Goat Girl</td>\n",
       "      <td>Goat Girl</td>\n",
       "      <td>The debut LP from this South London band is ab...</td>\n",
       "      <td>-0.038142</td>\n",
       "    </tr>\n",
       "    <tr>\n",
       "      <th>165</th>\n",
       "      <td>Total Xanarchy</td>\n",
       "      <td>Lil Xan</td>\n",
       "      <td>On his debut album, the standard-bearer of the...</td>\n",
       "      <td>-0.020340</td>\n",
       "    </tr>\n",
       "    <tr>\n",
       "      <th>264</th>\n",
       "      <td>Somewhere Else</td>\n",
       "      <td>Profligate</td>\n",
       "      <td>On their quietly commanding darkwave record, s...</td>\n",
       "      <td>-0.016461</td>\n",
       "    </tr>\n",
       "    <tr>\n",
       "      <th>468</th>\n",
       "      <td>Walk Among Us</td>\n",
       "      <td>Misfits</td>\n",
       "      <td>They were outliers when they started, but by t...</td>\n",
       "      <td>-0.005458</td>\n",
       "    </tr>\n",
       "    <tr>\n",
       "      <th>336</th>\n",
       "      <td>In Tongues EP</td>\n",
       "      <td>Joji</td>\n",
       "      <td>The former YouTube star’s debut EP establishes...</td>\n",
       "      <td>-0.004661</td>\n",
       "    </tr>\n",
       "    <tr>\n",
       "      <th>107</th>\n",
       "      <td>Edgewood</td>\n",
       "      <td>Trouble</td>\n",
       "      <td>Newly signed to Mike WiLL’s label, the Atlanta...</td>\n",
       "      <td>-0.002059</td>\n",
       "    </tr>\n",
       "    <tr>\n",
       "      <th>484</th>\n",
       "      <td>The Animal Spirits</td>\n",
       "      <td>James HoldenThe Animal Spirits</td>\n",
       "      <td>Electronic producer James Holden has remade hi...</td>\n",
       "      <td>0.005320</td>\n",
       "    </tr>\n",
       "  </tbody>\n",
       "</table>\n",
       "</div>"
      ],
      "text/plain": [
       "                      album                         artists  \\\n",
       "237  The Beautiful & Damned                          G-Eazy   \n",
       "555                No Shame                          Hopsin   \n",
       "487                    Rest            Charlotte Gainsbourg   \n",
       "141               Goat Girl                      Goat Girl    \n",
       "165          Total Xanarchy                         Lil Xan   \n",
       "264          Somewhere Else                     Profligate    \n",
       "468           Walk Among Us                         Misfits   \n",
       "336           In Tongues EP                            Joji   \n",
       "107                Edgewood                         Trouble   \n",
       "484      The Animal Spirits  James HoldenThe Animal Spirits   \n",
       "\n",
       "                                                  text  sentiment  \n",
       "237  The new album from Oakland rapper G-Eazy is a ...  -0.080848  \n",
       "555  On his corrosive fifth album, the rapper takes...  -0.073474  \n",
       "487  Best new musicSung mostly in French, Gainsbour...  -0.039959  \n",
       "141  The debut LP from this South London band is ab...  -0.038142  \n",
       "165  On his debut album, the standard-bearer of the...  -0.020340  \n",
       "264  On their quietly commanding darkwave record, s...  -0.016461  \n",
       "468  They were outliers when they started, but by t...  -0.005458  \n",
       "336  The former YouTube star’s debut EP establishes...  -0.004661  \n",
       "107  Newly signed to Mike WiLL’s label, the Atlanta...  -0.002059  \n",
       "484  Electronic producer James Holden has remade hi...   0.005320  "
      ]
     },
     "execution_count": 44,
     "metadata": {},
     "output_type": "execute_result"
    }
   ],
   "source": [
    "songs.nsmallest(10, 'sentiment')"
   ]
  },
  {
   "cell_type": "code",
   "execution_count": 45,
   "metadata": {
    "slideshow": {
     "slide_type": "slide"
    }
   },
   "outputs": [
    {
     "data": {
      "text/plain": [
       "'c outlook. Amid the myopia, the constant navel-gazing, and the show biz boilerplates, his contemptuous takes on stardom ultimately prove to be hollow.'"
      ]
     },
     "execution_count": 45,
     "metadata": {},
     "output_type": "execute_result"
    }
   ],
   "source": [
    "songs.loc[237, 'text'][-150:]"
   ]
  },
  {
   "cell_type": "code",
   "execution_count": 46,
   "metadata": {
    "slideshow": {
     "slide_type": "subslide"
    }
   },
   "outputs": [
    {
     "data": {
      "text/plain": [
       "'They were outliers when they started, but by the time their classic debut arrived in 1982, Misfits’ gleeful, ghoulish punk rock was exactly in tune with the national mood.In 1982, America hungered for horror. As the president yanked the country to the right and tensions with Russia portended mutual assured destruction, fans flocked to see George A. Romero’s  and ’s —two films that uniquely revived 1950s scares for the new nuclear age, using goofy camp and gruesome social commentary to speak to a terrifying reality. Into this fraught atmosphere,  dropped their magnificently malignant debut full-length, .When they formed in the late ’70s, Misfits were the wrong band at the wrong time. Frontman  was a working-class kid from Lodi, New Jersey; he and bassist  were directly inspired by the Briti'"
      ]
     },
     "execution_count": 46,
     "metadata": {},
     "output_type": "execute_result"
    }
   ],
   "source": [
    "songs.loc[468, 'text'][:800]"
   ]
  },
  {
   "cell_type": "markdown",
   "metadata": {
    "slideshow": {
     "slide_type": "slide"
    }
   },
   "source": [
    "## Emotional DJ"
   ]
  },
  {
   "cell_type": "code",
   "execution_count": 47,
   "metadata": {
    "slideshow": {
     "slide_type": "subslide"
    }
   },
   "outputs": [],
   "source": [
    "def get_records(keywords):\n",
    "    sub_df = songs[songs.text.str.contains(keywords)]\n",
    "    return sub_df.nlargest(5, 'sentiment')"
   ]
  },
  {
   "cell_type": "code",
   "execution_count": 48,
   "metadata": {
    "slideshow": {
     "slide_type": "subslide"
    }
   },
   "outputs": [
    {
     "data": {
      "text/html": [
       "<div>\n",
       "<style scoped>\n",
       "    .dataframe tbody tr th:only-of-type {\n",
       "        vertical-align: middle;\n",
       "    }\n",
       "\n",
       "    .dataframe tbody tr th {\n",
       "        vertical-align: top;\n",
       "    }\n",
       "\n",
       "    .dataframe thead th {\n",
       "        text-align: right;\n",
       "    }\n",
       "</style>\n",
       "<table border=\"1\" class=\"dataframe\">\n",
       "  <thead>\n",
       "    <tr style=\"text-align: right;\">\n",
       "      <th></th>\n",
       "      <th>album</th>\n",
       "      <th>artists</th>\n",
       "      <th>text</th>\n",
       "      <th>sentiment</th>\n",
       "    </tr>\n",
       "  </thead>\n",
       "  <tbody>\n",
       "    <tr>\n",
       "      <th>540</th>\n",
       "      <td>Bajas Fresh</td>\n",
       "      <td>Bitchin Bajas</td>\n",
       "      <td>Over seven tracks that span 80 minutes, the ex...</td>\n",
       "      <td>0.301116</td>\n",
       "    </tr>\n",
       "    <tr>\n",
       "      <th>241</th>\n",
       "      <td>Drum Dance to the Motherland</td>\n",
       "      <td>The Khan Jamal Creative Arts Ensemble</td>\n",
       "      <td>A long-forgotten gem of experimental jazz gets...</td>\n",
       "      <td>0.276320</td>\n",
       "    </tr>\n",
       "    <tr>\n",
       "      <th>580</th>\n",
       "      <td>Say Less</td>\n",
       "      <td>Roy Wood$</td>\n",
       "      <td>OVO Sound signee Roy Wood$ offers a chilled-ou...</td>\n",
       "      <td>0.271008</td>\n",
       "    </tr>\n",
       "    <tr>\n",
       "      <th>475</th>\n",
       "      <td>The Space Between</td>\n",
       "      <td>Majid Jordan</td>\n",
       "      <td>The refined sophomore album from Majid Jordan—...</td>\n",
       "      <td>0.268265</td>\n",
       "    </tr>\n",
       "    <tr>\n",
       "      <th>571</th>\n",
       "      <td>Yes Lawd! Remixes</td>\n",
       "      <td>NxWorries</td>\n",
       "      <td>On this collection of remixes from Anderson .P...</td>\n",
       "      <td>0.267699</td>\n",
       "    </tr>\n",
       "  </tbody>\n",
       "</table>\n",
       "</div>"
      ],
      "text/plain": [
       "                            album                                artists  \\\n",
       "540                   Bajas Fresh                          Bitchin Bajas   \n",
       "241  Drum Dance to the Motherland  The Khan Jamal Creative Arts Ensemble   \n",
       "580                      Say Less                              Roy Wood$   \n",
       "475             The Space Between                           Majid Jordan   \n",
       "571             Yes Lawd! Remixes                              NxWorries   \n",
       "\n",
       "                                                  text  sentiment  \n",
       "540  Over seven tracks that span 80 minutes, the ex...   0.301116  \n",
       "241  A long-forgotten gem of experimental jazz gets...   0.276320  \n",
       "580  OVO Sound signee Roy Wood$ offers a chilled-ou...   0.271008  \n",
       "475  The refined sophomore album from Majid Jordan—...   0.268265  \n",
       "571  On this collection of remixes from Anderson .P...   0.267699  "
      ]
     },
     "execution_count": 48,
     "metadata": {},
     "output_type": "execute_result"
    }
   ],
   "source": [
    "get_records('rap')"
   ]
  },
  {
   "cell_type": "code",
   "execution_count": 49,
   "metadata": {
    "slideshow": {
     "slide_type": "subslide"
    }
   },
   "outputs": [
    {
     "data": {
      "text/html": [
       "<div>\n",
       "<style scoped>\n",
       "    .dataframe tbody tr th:only-of-type {\n",
       "        vertical-align: middle;\n",
       "    }\n",
       "\n",
       "    .dataframe tbody tr th {\n",
       "        vertical-align: top;\n",
       "    }\n",
       "\n",
       "    .dataframe thead th {\n",
       "        text-align: right;\n",
       "    }\n",
       "</style>\n",
       "<table border=\"1\" class=\"dataframe\">\n",
       "  <thead>\n",
       "    <tr style=\"text-align: right;\">\n",
       "      <th></th>\n",
       "      <th>album</th>\n",
       "      <th>artists</th>\n",
       "      <th>text</th>\n",
       "      <th>sentiment</th>\n",
       "    </tr>\n",
       "  </thead>\n",
       "  <tbody>\n",
       "    <tr>\n",
       "      <th>205</th>\n",
       "      <td>Hexadic III</td>\n",
       "      <td></td>\n",
       "      <td>Six Organs of Admittance’s Ben Chasny invites ...</td>\n",
       "      <td>0.244322</td>\n",
       "    </tr>\n",
       "    <tr>\n",
       "      <th>170</th>\n",
       "      <td>Sparrow</td>\n",
       "      <td>Ashley Monroe</td>\n",
       "      <td>The Nashville singer-songwriter looks backward...</td>\n",
       "      <td>0.240628</td>\n",
       "    </tr>\n",
       "    <tr>\n",
       "      <th>281</th>\n",
       "      <td>Marble Skies</td>\n",
       "      <td>Django Django</td>\n",
       "      <td>The mad scientists of UK psych-rock take an un...</td>\n",
       "      <td>0.228349</td>\n",
       "    </tr>\n",
       "    <tr>\n",
       "      <th>333</th>\n",
       "      <td>Hundred Acres</td>\n",
       "      <td>S. Carey</td>\n",
       "      <td>As his solo career gains momentum, the second-...</td>\n",
       "      <td>0.214583</td>\n",
       "    </tr>\n",
       "    <tr>\n",
       "      <th>537</th>\n",
       "      <td>Mount Qaf (Divine Love)</td>\n",
       "      <td>Peter Matthew Bauer</td>\n",
       "      <td>Peter Matthew Bauer, bassist and organist in t...</td>\n",
       "      <td>0.213078</td>\n",
       "    </tr>\n",
       "  </tbody>\n",
       "</table>\n",
       "</div>"
      ],
      "text/plain": [
       "                       album              artists  \\\n",
       "205              Hexadic III                        \n",
       "170                  Sparrow        Ashley Monroe   \n",
       "281             Marble Skies        Django Django   \n",
       "333            Hundred Acres             S. Carey   \n",
       "537  Mount Qaf (Divine Love)  Peter Matthew Bauer   \n",
       "\n",
       "                                                  text  sentiment  \n",
       "205  Six Organs of Admittance’s Ben Chasny invites ...   0.244322  \n",
       "170  The Nashville singer-songwriter looks backward...   0.240628  \n",
       "281  The mad scientists of UK psych-rock take an un...   0.228349  \n",
       "333  As his solo career gains momentum, the second-...   0.214583  \n",
       "537  Peter Matthew Bauer, bassist and organist in t...   0.213078  "
      ]
     },
     "execution_count": 49,
     "metadata": {},
     "output_type": "execute_result"
    }
   ],
   "source": [
    "get_records('country')"
   ]
  },
  {
   "cell_type": "code",
   "execution_count": 50,
   "metadata": {
    "slideshow": {
     "slide_type": "subslide"
    }
   },
   "outputs": [
    {
     "data": {
      "text/html": [
       "<div>\n",
       "<style scoped>\n",
       "    .dataframe tbody tr th:only-of-type {\n",
       "        vertical-align: middle;\n",
       "    }\n",
       "\n",
       "    .dataframe tbody tr th {\n",
       "        vertical-align: top;\n",
       "    }\n",
       "\n",
       "    .dataframe thead th {\n",
       "        text-align: right;\n",
       "    }\n",
       "</style>\n",
       "<table border=\"1\" class=\"dataframe\">\n",
       "  <thead>\n",
       "    <tr style=\"text-align: right;\">\n",
       "      <th></th>\n",
       "      <th>album</th>\n",
       "      <th>artists</th>\n",
       "      <th>text</th>\n",
       "      <th>sentiment</th>\n",
       "    </tr>\n",
       "  </thead>\n",
       "  <tbody>\n",
       "    <tr>\n",
       "      <th>175</th>\n",
       "      <td>The Deconstruction</td>\n",
       "      <td>Eels</td>\n",
       "      <td>On Eels’ 12th album, Mark Everett trots out hi...</td>\n",
       "      <td>0.207998</td>\n",
       "    </tr>\n",
       "    <tr>\n",
       "      <th>298</th>\n",
       "      <td>Something/Anything?A Wizard, a True Star</td>\n",
       "      <td>Todd RundgrenTodd Rundgren</td>\n",
       "      <td>1 / 2 AlbumsThe wildly ambitious albums that c...</td>\n",
       "      <td>0.182923</td>\n",
       "    </tr>\n",
       "    <tr>\n",
       "      <th>632</th>\n",
       "      <td>Plum</td>\n",
       "      <td>Wand</td>\n",
       "      <td>The new album from Cory Hanson’s band Wand is ...</td>\n",
       "      <td>0.143373</td>\n",
       "    </tr>\n",
       "    <tr>\n",
       "      <th>76</th>\n",
       "      <td>Jericho Sirens</td>\n",
       "      <td>Hot Snakes</td>\n",
       "      <td>Teeming with revved-up riffs and apocalyptic i...</td>\n",
       "      <td>0.138615</td>\n",
       "    </tr>\n",
       "    <tr>\n",
       "      <th>651</th>\n",
       "      <td>As You Were</td>\n",
       "      <td>Liam Gallagher</td>\n",
       "      <td>The debut solo album from the 45-year-old, wou...</td>\n",
       "      <td>0.137974</td>\n",
       "    </tr>\n",
       "  </tbody>\n",
       "</table>\n",
       "</div>"
      ],
      "text/plain": [
       "                                        album                     artists  \\\n",
       "175                        The Deconstruction                        Eels   \n",
       "298  Something/Anything?A Wizard, a True Star  Todd RundgrenTodd Rundgren   \n",
       "632                                      Plum                        Wand   \n",
       "76                             Jericho Sirens                  Hot Snakes   \n",
       "651                               As You Were              Liam Gallagher   \n",
       "\n",
       "                                                  text  sentiment  \n",
       "175  On Eels’ 12th album, Mark Everett trots out hi...   0.207998  \n",
       "298  1 / 2 AlbumsThe wildly ambitious albums that c...   0.182923  \n",
       "632  The new album from Cory Hanson’s band Wand is ...   0.143373  \n",
       "76   Teeming with revved-up riffs and apocalyptic i...   0.138615  \n",
       "651  The debut solo album from the 45-year-old, wou...   0.137974  "
      ]
     },
     "execution_count": 50,
     "metadata": {},
     "output_type": "execute_result"
    }
   ],
   "source": [
    "get_records('classic rock')"
   ]
  },
  {
   "cell_type": "markdown",
   "metadata": {
    "slideshow": {
     "slide_type": "slide"
    }
   },
   "source": [
    "## Word Clouds"
   ]
  },
  {
   "cell_type": "code",
   "execution_count": 51,
   "metadata": {
    "slideshow": {
     "slide_type": "subslide"
    }
   },
   "outputs": [],
   "source": [
    "from wordcloud import WordCloud, STOPWORDS\n",
    "text = ''\n",
    "rock = get_records('classic rock')\n",
    "for review in rock.text:\n",
    "    text += review "
   ]
  },
  {
   "cell_type": "code",
   "execution_count": 52,
   "metadata": {
    "slideshow": {
     "slide_type": "subslide"
    }
   },
   "outputs": [],
   "source": [
    "wordcloud = WordCloud(stopwords = STOPWORDS, background_color = 'white').generate(text)"
   ]
  },
  {
   "cell_type": "code",
   "execution_count": 53,
   "metadata": {
    "slideshow": {
     "slide_type": "subslide"
    }
   },
   "outputs": [
    {
     "data": {
      "image/png": "[encoded data removed]",
      "text/plain": [
       "<matplotlib.figure.Figure at 0x11761b438>"
      ]
     },
     "metadata": {},
     "output_type": "display_data"
    }
   ],
   "source": [
    "plt.imshow(wordcloud)\n",
    "plt.axis('off')\n",
    "plt.show()"
   ]
  },
  {
   "cell_type": "code",
   "execution_count": 54,
   "metadata": {
    "slideshow": {
     "slide_type": "slide"
    }
   },
   "outputs": [],
   "source": [
    "def rev_cloud(words):\n",
    "    text = ''\n",
    "    roev = get_records(words)\n",
    "    for review in roev.text:\n",
    "        text += review \n",
    "    wordcloud = WordCloud(stopwords = STOPWORDS, background_color = 'white').generate(text)\n",
    "    plt.imshow(wordcloud)\n",
    "    plt.axis('off')\n",
    "    plt.show()"
   ]
  },
  {
   "cell_type": "code",
   "execution_count": 55,
   "metadata": {
    "slideshow": {
     "slide_type": "subslide"
    }
   },
   "outputs": [
    {
     "data": {
      "image/png": "[encoded data removed]",
      "text/plain": [
       "<matplotlib.figure.Figure at 0x116d8a3c8>"
      ]
     },
     "metadata": {},
     "output_type": "display_data"
    }
   ],
   "source": [
    "rev_cloud('cowboy')"
   ]
  },
  {
   "cell_type": "markdown",
   "metadata": {
    "slideshow": {
     "slide_type": "slide"
    }
   },
   "source": [
    "## Corpus Reader"
   ]
  },
  {
   "cell_type": "code",
   "execution_count": 56,
   "metadata": {
    "slideshow": {
     "slide_type": "fragment"
    }
   },
   "outputs": [],
   "source": [
    "from nltk.corpus import PlaintextCorpusReader"
   ]
  },
  {
   "cell_type": "code",
   "execution_count": 57,
   "metadata": {
    "slideshow": {
     "slide_type": "fragment"
    }
   },
   "outputs": [],
   "source": [
    "root = 'data/narratives'\n",
    "filetype = '.*\\.txt'\n",
    "corpus = PlaintextCorpusReader(root, filetype)"
   ]
  },
  {
   "cell_type": "code",
   "execution_count": 58,
   "metadata": {
    "slideshow": {
     "slide_type": "slide"
    }
   },
   "outputs": [
    {
     "data": {
      "text/plain": [
       "['church-hatcher-hatcher.txt',\n",
       " 'fpn-ball-ball.txt',\n",
       " 'fpn-brownw-brown.txt',\n",
       " 'fpn-bruce-bruce.txt',\n",
       " 'fpn-burton-burton.txt']"
      ]
     },
     "execution_count": 58,
     "metadata": {},
     "output_type": "execute_result"
    }
   ],
   "source": [
    "corpus.fileids()[:5]"
   ]
  },
  {
   "cell_type": "code",
   "execution_count": 59,
   "metadata": {
    "slideshow": {
     "slide_type": "subslide"
    }
   },
   "outputs": [
    {
     "data": {
      "text/plain": [
       "'sample this book. We will tell you some things in advance, which may help you to decide whether it is worth while to read any further. These pages deal with a negro, and are not designed either to help or to hurt the negro race. They have only to do with one man. He was one of a class,—without pedig'"
      ]
     },
     "execution_count": 59,
     "metadata": {},
     "output_type": "execute_result"
    }
   ],
   "source": [
    "corpus.raw()[200:500]"
   ]
  },
  {
   "cell_type": "code",
   "execution_count": 60,
   "metadata": {
    "slideshow": {
     "slide_type": "slide"
    }
   },
   "outputs": [
    {
     "data": {
      "image/png": "[encoded data removed]",
      "text/plain": [
       "<matplotlib.figure.Figure at 0x117beb668>"
      ]
     },
     "metadata": {},
     "output_type": "display_data"
    }
   ],
   "source": [
    "text = ''\n",
    "for word in corpus.raw():\n",
    "    text += word\n",
    "wordcloud = WordCloud(stopwords = STOPWORDS, background_color = 'white', colormap = 'magma', height = 600, width = 1200).generate(text)\n",
    "plt.imshow(wordcloud)\n",
    "plt.axis('off')\n",
    "plt.show()"
   ]
  },
  {
   "cell_type": "code",
   "execution_count": 61,
   "metadata": {
    "slideshow": {
     "slide_type": "subslide"
    }
   },
   "outputs": [
    {
     "data": {
      "text/plain": [
       "5"
      ]
     },
     "execution_count": 61,
     "metadata": {},
     "output_type": "execute_result"
    }
   ],
   "source": [
    "len(get_records('pop'))"
   ]
  },
  {
   "cell_type": "code",
   "execution_count": 62,
   "metadata": {
    "slideshow": {
     "slide_type": "slide"
    }
   },
   "outputs": [
    {
     "data": {
      "text/html": [
       "<div>\n",
       "<style scoped>\n",
       "    .dataframe tbody tr th:only-of-type {\n",
       "        vertical-align: middle;\n",
       "    }\n",
       "\n",
       "    .dataframe tbody tr th {\n",
       "        vertical-align: top;\n",
       "    }\n",
       "\n",
       "    .dataframe thead th {\n",
       "        text-align: right;\n",
       "    }\n",
       "</style>\n",
       "<table border=\"1\" class=\"dataframe\">\n",
       "  <thead>\n",
       "    <tr style=\"text-align: right;\">\n",
       "      <th></th>\n",
       "      <th>album</th>\n",
       "      <th>artists</th>\n",
       "      <th>text</th>\n",
       "      <th>sentiment</th>\n",
       "    </tr>\n",
       "  </thead>\n",
       "  <tbody>\n",
       "    <tr>\n",
       "      <th>580</th>\n",
       "      <td>Say Less</td>\n",
       "      <td>Roy Wood$</td>\n",
       "      <td>OVO Sound signee Roy Wood$ offers a chilled-ou...</td>\n",
       "      <td>0.271008</td>\n",
       "    </tr>\n",
       "    <tr>\n",
       "      <th>475</th>\n",
       "      <td>The Space Between</td>\n",
       "      <td>Majid Jordan</td>\n",
       "      <td>The refined sophomore album from Majid Jordan—...</td>\n",
       "      <td>0.268265</td>\n",
       "    </tr>\n",
       "    <tr>\n",
       "      <th>7</th>\n",
       "      <td>Universal Love: Wedding Songs Reimagined EP</td>\n",
       "      <td></td>\n",
       "      <td>Featuring Bob Dylan, St. Vincent, and Ben Gibb...</td>\n",
       "      <td>0.248650</td>\n",
       "    </tr>\n",
       "    <tr>\n",
       "      <th>260</th>\n",
       "      <td>Phantom Thread Original Motion Picture Soundtrack</td>\n",
       "      <td>Jonny Greenwood</td>\n",
       "      <td>Recorded with a 60-piece orchestra, the Radioh...</td>\n",
       "      <td>0.246984</td>\n",
       "    </tr>\n",
       "    <tr>\n",
       "      <th>586</th>\n",
       "      <td>Kick</td>\n",
       "      <td>INXS</td>\n",
       "      <td>Best new reissueThe 30th-anniversary edition o...</td>\n",
       "      <td>0.242337</td>\n",
       "    </tr>\n",
       "  </tbody>\n",
       "</table>\n",
       "</div>"
      ],
      "text/plain": [
       "                                                 album          artists  \\\n",
       "580                                           Say Less        Roy Wood$   \n",
       "475                                  The Space Between     Majid Jordan   \n",
       "7          Universal Love: Wedding Songs Reimagined EP                    \n",
       "260  Phantom Thread Original Motion Picture Soundtrack  Jonny Greenwood   \n",
       "586                                               Kick             INXS   \n",
       "\n",
       "                                                  text  sentiment  \n",
       "580  OVO Sound signee Roy Wood$ offers a chilled-ou...   0.271008  \n",
       "475  The refined sophomore album from Majid Jordan—...   0.268265  \n",
       "7    Featuring Bob Dylan, St. Vincent, and Ben Gibb...   0.248650  \n",
       "260  Recorded with a 60-piece orchestra, the Radioh...   0.246984  \n",
       "586  Best new reissueThe 30th-anniversary edition o...   0.242337  "
      ]
     },
     "execution_count": 62,
     "metadata": {},
     "output_type": "execute_result"
    }
   ],
   "source": [
    "text = get_records('pop')\n",
    "col_num = 2\n",
    "row_num = 3\n",
    "text"
   ]
  },
  {
   "cell_type": "code",
   "execution_count": 63,
   "metadata": {
    "slideshow": {
     "slide_type": "slide"
    }
   },
   "outputs": [
    {
     "data": {
      "image/png": "[encoded data removed]",
      "text/plain": [
       "<matplotlib.figure.Figure at 0x117646d30>"
      ]
     },
     "metadata": {},
     "output_type": "display_data"
    }
   ],
   "source": [
    "fig, axes = plt.subplots(1,5, figsize = (16, 12))\n",
    "count = 1\n",
    "for rev in text['text']:\n",
    "    plt.subplot(1, 5, count)\n",
    "    cloud = wordcloud = WordCloud().generate(rev)\n",
    "    plt.imshow(cloud)\n",
    "    plt.axis('off')\n",
    "    count += 1"
   ]
  },
  {
   "cell_type": "markdown",
   "metadata": {
    "slideshow": {
     "slide_type": "slide"
    }
   },
   "source": [
    "## Valence Sentiment\n",
    "\n"
   ]
  },
  {
   "cell_type": "code",
   "execution_count": 64,
   "metadata": {
    "slideshow": {
     "slide_type": "skip"
    }
   },
   "outputs": [],
   "source": [
    "#!pip install vaderSentiment"
   ]
  },
  {
   "cell_type": "code",
   "execution_count": 65,
   "metadata": {
    "slideshow": {
     "slide_type": "subslide"
    }
   },
   "outputs": [],
   "source": [
    "from vaderSentiment.vaderSentiment import SentimentIntensityAnalyzer\n",
    "from nltk import sent_tokenize"
   ]
  },
  {
   "cell_type": "code",
   "execution_count": 66,
   "metadata": {
    "slideshow": {
     "slide_type": "subslide"
    }
   },
   "outputs": [
    {
     "name": "stdout",
     "output_type": "stream",
     "text": [
      "Smoke DZA 0.09841666666666667 0.02245833333333333 0.8790833333333333 0.2827708333333333\n",
      "Makeness 0.07637499999999998 0.0538125 0.86975 0.17410625\n",
      "Ricky Eat Acid 0.10129166666666667 0.030125 0.868625 0.260825\n",
      "Entourage 0.09840625 0.0255625 0.8760312499999999 0.283175\n",
      "The Weeknd 0.10673684210526316 0.05499999999999999 0.8382105263157893 0.2008578947368421\n",
      "The Messthetics 0.07971428571428571 0.039642857142857146 0.8806428571428572 0.19982142857142857\n",
      "No JoySonic Boom 0.0784736842105263 0.03757894736842105 0.8839999999999999 0.20490000000000003\n",
      " 0.15425 0.03029166666666667 0.8154166666666667 0.40077083333333335\n",
      "Françoise Hardy 0.17800000000000005 0.0296875 0.7923125 0.48922499999999997\n",
      "Flatbush Zombies 0.08713333333333334 0.0577 0.8550666666666668 0.15604666666666667\n",
      "A Place to Bury Strangers 0.11235294117647059 0.038470588235294124 0.8491764705882354 0.2838176470588235\n",
      "Tinashe 0.07552941176470589 0.03111764705882353 0.8932941176470587 0.1978588235294117\n",
      "Park Jiha 0.10695652173913044 0.0542608695652174 0.8388260869565218 0.1777304347826087\n",
      "Saweetie 0.12713333333333332 0.04800000000000001 0.8248 0.40040666666666663\n",
      "Soccer Mommy 0.14216666666666666 0.06623333333333334 0.7916666666666665 0.21187333333333333\n",
      "Haley Heynderickx 0.10623809523809524 0.07257142857142856 0.8211428571428572 0.07001428571428574\n",
      " 0.07086046511627905 0.04906976744186047 0.8800697674418605 0.06959302325581396\n",
      "Bishop Nehru 0.09376190476190478 0.09085714285714287 0.8154761904761906 0.029895238095238117\n",
      "Rich Homie Quan 0.078125 0.05408333333333334 0.8678333333333331 0.13292083333333332\n",
      "Kash Doll 0.09452380952380951 0.05461904761904762 0.8509523809523811 0.17826190476190476\n"
     ]
    }
   ],
   "source": [
    "headers = ['pos', 'neg', 'neu', 'compound']\n",
    "texts = songs.text\n",
    "analyzer = SentimentIntensityAnalyzer()\n",
    "for i in range(len(texts[:20])):\n",
    "    sentences = sent_tokenize(texts[i])\n",
    "    pos = compound = neu = neg = 0\n",
    "    for sentence in sentences:\n",
    "        vs = analyzer.polarity_scores(sentence)\n",
    "        pos += vs['pos']/(len(sentences))\n",
    "        compound += vs['compound']/(len(sentences))\n",
    "        neu += vs['neu']/(len(sentences))\n",
    "        neg += vs['neg']/len(sentences)\n",
    "    print(songs.iloc[i]['artists'], pos, neg, neu, compound)\n",
    "    "
   ]
  },
  {
   "cell_type": "code",
   "execution_count": 67,
   "metadata": {
    "slideshow": {
     "slide_type": "slide"
    }
   },
   "outputs": [],
   "source": [
    "def vader_comparison(texts):\n",
    "    from vaderSentiment.vaderSentiment import SentimentIntensityAnalyzer\n",
    "    from nltk import sent_tokenize\n",
    "    headers = ['pos', 'neg', 'neu', 'compound']\n",
    "    analyzer = SentimentIntensityAnalyzer()\n",
    "    print('Album\\t\\t\\t\\t\\t', 'pos\\t', 'neg\\t', 'neu\\t', 'compound')\n",
    "    print('-----------------------------------------------------------------------')\n",
    "    for i in range(len(texts[:5])):\n",
    "        sentences = sent_tokenize(texts[i])\n",
    "        pos = compound = neu = neg = 0\n",
    "        for sentence in sentences:\n",
    "            vs = analyzer.polarity_scores(sentence)\n",
    "            pos += vs['pos']/(len(sentences))\n",
    "            compound += vs['compound']/(len(sentences))\n",
    "            neu += vs['neu']/(len(sentences))\n",
    "            neg += vs['neg']/len(sentences)\n",
    "        print('%-20s\\t\\t\\t'%songs.iloc[i]['artists'], '%1.2f\\t'%pos, '%1.2f\\t'%neg, '%1.2f\\t'%neu, '%1.2f\\t'%compound)\n"
   ]
  },
  {
   "cell_type": "code",
   "execution_count": 68,
   "metadata": {
    "slideshow": {
     "slide_type": "subslide"
    }
   },
   "outputs": [
    {
     "name": "stdout",
     "output_type": "stream",
     "text": [
      "Album\t\t\t\t\t pos\t neg\t neu\t compound\n",
      "-----------------------------------------------------------------------\n",
      "Smoke DZA           \t\t\t 0.10\t 0.02\t 0.88\t 0.28\t\n",
      "Makeness            \t\t\t 0.08\t 0.05\t 0.87\t 0.17\t\n",
      "Ricky Eat Acid      \t\t\t 0.10\t 0.03\t 0.87\t 0.26\t\n",
      "Entourage           \t\t\t 0.10\t 0.03\t 0.88\t 0.28\t\n",
      "The Weeknd          \t\t\t 0.11\t 0.05\t 0.84\t 0.20\t\n"
     ]
    }
   ],
   "source": [
    "vader_comparison(songs.text)"
   ]
  },
  {
   "cell_type": "markdown",
   "metadata": {
    "slideshow": {
     "slide_type": "slide"
    }
   },
   "source": [
    "## Complexity Analysis"
   ]
  },
  {
   "cell_type": "code",
   "execution_count": 69,
   "metadata": {
    "slideshow": {
     "slide_type": "subslide"
    }
   },
   "outputs": [],
   "source": [
    "root = 'data/narratives'\n",
    "filetype = '.*\\.txt'\n",
    "corpus = PlaintextCorpusReader(root, filetype)"
   ]
  },
  {
   "cell_type": "code",
   "execution_count": 70,
   "metadata": {
    "slideshow": {
     "slide_type": "fragment"
    }
   },
   "outputs": [
    {
     "data": {
      "text/plain": [
       "1960230"
      ]
     },
     "execution_count": 70,
     "metadata": {},
     "output_type": "execute_result"
    }
   ],
   "source": [
    "len(corpus.words())"
   ]
  },
  {
   "cell_type": "code",
   "execution_count": 71,
   "metadata": {
    "slideshow": {
     "slide_type": "fragment"
    }
   },
   "outputs": [
    {
     "data": {
      "text/plain": [
       "39712"
      ]
     },
     "execution_count": 71,
     "metadata": {},
     "output_type": "execute_result"
    }
   ],
   "source": [
    "len(set(corpus.words()))"
   ]
  },
  {
   "cell_type": "code",
   "execution_count": 72,
   "metadata": {
    "slideshow": {
     "slide_type": "fragment"
    }
   },
   "outputs": [],
   "source": [
    "lex_diversity = len(set(corpus.words()))/len(corpus.words())"
   ]
  },
  {
   "cell_type": "code",
   "execution_count": null,
   "metadata": {
    "slideshow": {
     "slide_type": "fragment"
    }
   },
   "outputs": [
    {
     "data": {
      "text/plain": [
       "0.020258847176096682"
      ]
     },
     "execution_count": 73,
     "metadata": {},
     "output_type": "execute_result"
    }
   ],
   "source": [
    "lex_diversity"
   ]
  },
  {
   "cell_type": "markdown",
   "metadata": {
    "slideshow": {
     "slide_type": "slide"
    }
   },
   "source": [
    "## Named Entity Analysis\n",
    "\n",
    "[SpaCy Usage](https://spacy.io/usage/linguistic-features#entity-types)\n",
    "\n",
    "![](images/entities.png)"
   ]
  },
  {
   "cell_type": "code",
   "execution_count": null,
   "metadata": {
    "slideshow": {
     "slide_type": "slide"
    }
   },
   "outputs": [],
   "source": [
    "en = {}\n",
    "try:\n",
    "    sent_detector = nltk.data.load('tokenizers/punkt/english.pickle')\n",
    "    sentences = sent_detector.tokenize(corpus.raw())\n",
    "    for sentence in sentences:\n",
    "        tokenized = nltk.word_tokenize(sentence)\n",
    "        tagged = nltk.pos_tag(tokenized)\n",
    "        chunked = nltk.ne_chunk(tagged)\n",
    "        for tree in chunked:\n",
    "            if hasattr(tree, 'label'):\n",
    "                ne = ' '.join(c[0] for c in tree.leaves())\n",
    "                en[ne] = [tree.label(), ''.join(c[1] for c in tree.leaves())]\n",
    "except Exception as e:\n",
    "    print(str(e))"
   ]
  },
  {
   "cell_type": "code",
   "execution_count": null,
   "metadata": {
    "slideshow": {
     "slide_type": "subslide"
    }
   },
   "outputs": [],
   "source": [
    "import pprint\n",
    "pp = pprint.PrettyPrinter(indent = 4)\n",
    "len(en)"
   ]
  },
  {
   "cell_type": "code",
   "execution_count": null,
   "metadata": {
    "slideshow": {
     "slide_type": "subslide"
    }
   },
   "outputs": [],
   "source": [
    "list(en)[:100]"
   ]
  },
  {
   "cell_type": "code",
   "execution_count": null,
   "metadata": {
    "slideshow": {
     "slide_type": "slide"
    }
   },
   "outputs": [],
   "source": [
    "text = nlp(songs.text[4])"
   ]
  },
  {
   "cell_type": "code",
   "execution_count": null,
   "metadata": {},
   "outputs": [],
   "source": [
    "displacy.render(text, style = 'ent', jupyter = True)"
   ]
  },
  {
   "cell_type": "markdown",
   "metadata": {
    "slideshow": {
     "slide_type": "slide"
    }
   },
   "source": [
    "## Next"
   ]
  },
  {
   "cell_type": "code",
   "execution_count": 73,
   "metadata": {
    "slideshow": {
     "slide_type": "subslide"
    }
   },
   "outputs": [],
   "source": [
    "df = pd.read_csv('data/Datafiniti_Amazon_Consumer_Reviews_of_Amazon_Products.csv.zip' ,compression='zip')"
   ]
  },
  {
   "cell_type": "code",
   "execution_count": 74,
   "metadata": {
    "slideshow": {
     "slide_type": "subslide"
    }
   },
   "outputs": [
    {
     "data": {
      "text/html": [
       "<div>\n",
       "<style scoped>\n",
       "    .dataframe tbody tr th:only-of-type {\n",
       "        vertical-align: middle;\n",
       "    }\n",
       "\n",
       "    .dataframe tbody tr th {\n",
       "        vertical-align: top;\n",
       "    }\n",
       "\n",
       "    .dataframe thead th {\n",
       "        text-align: right;\n",
       "    }\n",
       "</style>\n",
       "<table border=\"1\" class=\"dataframe\">\n",
       "  <thead>\n",
       "    <tr style=\"text-align: right;\">\n",
       "      <th></th>\n",
       "      <th>id</th>\n",
       "      <th>dateAdded</th>\n",
       "      <th>dateUpdated</th>\n",
       "      <th>name</th>\n",
       "      <th>asins</th>\n",
       "      <th>brand</th>\n",
       "      <th>categories</th>\n",
       "      <th>primaryCategories</th>\n",
       "      <th>imageURLs</th>\n",
       "      <th>keys</th>\n",
       "      <th>...</th>\n",
       "      <th>reviews.dateSeen</th>\n",
       "      <th>reviews.doRecommend</th>\n",
       "      <th>reviews.id</th>\n",
       "      <th>reviews.numHelpful</th>\n",
       "      <th>reviews.rating</th>\n",
       "      <th>reviews.sourceURLs</th>\n",
       "      <th>reviews.text</th>\n",
       "      <th>reviews.title</th>\n",
       "      <th>reviews.username</th>\n",
       "      <th>sourceURLs</th>\n",
       "    </tr>\n",
       "  </thead>\n",
       "  <tbody>\n",
       "    <tr>\n",
       "      <th>0</th>\n",
       "      <td>AVqVGZNvQMlgsOJE6eUY</td>\n",
       "      <td>2017-03-03T16:56:05Z</td>\n",
       "      <td>2018-10-25T16:36:31Z</td>\n",
       "      <td>Amazon Kindle E-Reader 6\" Wifi (8th Generation...</td>\n",
       "      <td>B00ZV9PXP2</td>\n",
       "      <td>Amazon</td>\n",
       "      <td>Computers,Electronics Features,Tablets,Electro...</td>\n",
       "      <td>Electronics</td>\n",
       "      <td>https://pisces.bbystatic.com/image2/BestBuy_US...</td>\n",
       "      <td>allnewkindleereaderblack6glarefreetouchscreend...</td>\n",
       "      <td>...</td>\n",
       "      <td>2018-05-27T00:00:00Z,2017-09-18T00:00:00Z,2017...</td>\n",
       "      <td>False</td>\n",
       "      <td>NaN</td>\n",
       "      <td>0</td>\n",
       "      <td>3</td>\n",
       "      <td>http://reviews.bestbuy.com/3545/5442403/review...</td>\n",
       "      <td>I thought it would be as big as small paper bu...</td>\n",
       "      <td>Too small</td>\n",
       "      <td>llyyue</td>\n",
       "      <td>https://www.newegg.com/Product/Product.aspx%25...</td>\n",
       "    </tr>\n",
       "    <tr>\n",
       "      <th>1</th>\n",
       "      <td>AVqVGZNvQMlgsOJE6eUY</td>\n",
       "      <td>2017-03-03T16:56:05Z</td>\n",
       "      <td>2018-10-25T16:36:31Z</td>\n",
       "      <td>Amazon Kindle E-Reader 6\" Wifi (8th Generation...</td>\n",
       "      <td>B00ZV9PXP2</td>\n",
       "      <td>Amazon</td>\n",
       "      <td>Computers,Electronics Features,Tablets,Electro...</td>\n",
       "      <td>Electronics</td>\n",
       "      <td>https://pisces.bbystatic.com/image2/BestBuy_US...</td>\n",
       "      <td>allnewkindleereaderblack6glarefreetouchscreend...</td>\n",
       "      <td>...</td>\n",
       "      <td>2018-05-27T00:00:00Z,2017-07-07T00:00:00Z,2017...</td>\n",
       "      <td>True</td>\n",
       "      <td>NaN</td>\n",
       "      <td>0</td>\n",
       "      <td>5</td>\n",
       "      <td>http://reviews.bestbuy.com/3545/5442403/review...</td>\n",
       "      <td>This kindle is light and easy to use especiall...</td>\n",
       "      <td>Great light reader. Easy to use at the beach</td>\n",
       "      <td>Charmi</td>\n",
       "      <td>https://www.newegg.com/Product/Product.aspx%25...</td>\n",
       "    </tr>\n",
       "    <tr>\n",
       "      <th>2</th>\n",
       "      <td>AVqVGZNvQMlgsOJE6eUY</td>\n",
       "      <td>2017-03-03T16:56:05Z</td>\n",
       "      <td>2018-10-25T16:36:31Z</td>\n",
       "      <td>Amazon Kindle E-Reader 6\" Wifi (8th Generation...</td>\n",
       "      <td>B00ZV9PXP2</td>\n",
       "      <td>Amazon</td>\n",
       "      <td>Computers,Electronics Features,Tablets,Electro...</td>\n",
       "      <td>Electronics</td>\n",
       "      <td>https://pisces.bbystatic.com/image2/BestBuy_US...</td>\n",
       "      <td>allnewkindleereaderblack6glarefreetouchscreend...</td>\n",
       "      <td>...</td>\n",
       "      <td>2018-05-27T00:00:00Z</td>\n",
       "      <td>True</td>\n",
       "      <td>NaN</td>\n",
       "      <td>0</td>\n",
       "      <td>4</td>\n",
       "      <td>https://reviews.bestbuy.com/3545/5442403/revie...</td>\n",
       "      <td>Didnt know how much i'd use a kindle so went f...</td>\n",
       "      <td>Great for the price</td>\n",
       "      <td>johnnyjojojo</td>\n",
       "      <td>https://www.newegg.com/Product/Product.aspx%25...</td>\n",
       "    </tr>\n",
       "    <tr>\n",
       "      <th>3</th>\n",
       "      <td>AVqVGZNvQMlgsOJE6eUY</td>\n",
       "      <td>2017-03-03T16:56:05Z</td>\n",
       "      <td>2018-10-25T16:36:31Z</td>\n",
       "      <td>Amazon Kindle E-Reader 6\" Wifi (8th Generation...</td>\n",
       "      <td>B00ZV9PXP2</td>\n",
       "      <td>Amazon</td>\n",
       "      <td>Computers,Electronics Features,Tablets,Electro...</td>\n",
       "      <td>Electronics</td>\n",
       "      <td>https://pisces.bbystatic.com/image2/BestBuy_US...</td>\n",
       "      <td>allnewkindleereaderblack6glarefreetouchscreend...</td>\n",
       "      <td>...</td>\n",
       "      <td>2018-10-09T00:00:00Z</td>\n",
       "      <td>True</td>\n",
       "      <td>177283626.0</td>\n",
       "      <td>3</td>\n",
       "      <td>5</td>\n",
       "      <td>https://redsky.target.com/groot-domain-api/v1/...</td>\n",
       "      <td>I am 100 happy with my purchase. I caught it o...</td>\n",
       "      <td>A Great Buy</td>\n",
       "      <td>Kdperry</td>\n",
       "      <td>https://www.newegg.com/Product/Product.aspx%25...</td>\n",
       "    </tr>\n",
       "    <tr>\n",
       "      <th>4</th>\n",
       "      <td>AVqVGZNvQMlgsOJE6eUY</td>\n",
       "      <td>2017-03-03T16:56:05Z</td>\n",
       "      <td>2018-10-25T16:36:31Z</td>\n",
       "      <td>Amazon Kindle E-Reader 6\" Wifi (8th Generation...</td>\n",
       "      <td>B00ZV9PXP2</td>\n",
       "      <td>Amazon</td>\n",
       "      <td>Computers,Electronics Features,Tablets,Electro...</td>\n",
       "      <td>Electronics</td>\n",
       "      <td>https://pisces.bbystatic.com/image2/BestBuy_US...</td>\n",
       "      <td>allnewkindleereaderblack6glarefreetouchscreend...</td>\n",
       "      <td>...</td>\n",
       "      <td>2018-05-27T00:00:00Z</td>\n",
       "      <td>True</td>\n",
       "      <td>NaN</td>\n",
       "      <td>0</td>\n",
       "      <td>5</td>\n",
       "      <td>https://reviews.bestbuy.com/3545/5442403/revie...</td>\n",
       "      <td>Solid entry level Kindle. Great for kids. Gift...</td>\n",
       "      <td>Solid entry-level Kindle. Great for kids</td>\n",
       "      <td>Johnnyblack</td>\n",
       "      <td>https://www.newegg.com/Product/Product.aspx%25...</td>\n",
       "    </tr>\n",
       "  </tbody>\n",
       "</table>\n",
       "<p>5 rows × 24 columns</p>\n",
       "</div>"
      ],
      "text/plain": [
       "                     id             dateAdded           dateUpdated  \\\n",
       "0  AVqVGZNvQMlgsOJE6eUY  2017-03-03T16:56:05Z  2018-10-25T16:36:31Z   \n",
       "1  AVqVGZNvQMlgsOJE6eUY  2017-03-03T16:56:05Z  2018-10-25T16:36:31Z   \n",
       "2  AVqVGZNvQMlgsOJE6eUY  2017-03-03T16:56:05Z  2018-10-25T16:36:31Z   \n",
       "3  AVqVGZNvQMlgsOJE6eUY  2017-03-03T16:56:05Z  2018-10-25T16:36:31Z   \n",
       "4  AVqVGZNvQMlgsOJE6eUY  2017-03-03T16:56:05Z  2018-10-25T16:36:31Z   \n",
       "\n",
       "                                                name       asins   brand  \\\n",
       "0  Amazon Kindle E-Reader 6\" Wifi (8th Generation...  B00ZV9PXP2  Amazon   \n",
       "1  Amazon Kindle E-Reader 6\" Wifi (8th Generation...  B00ZV9PXP2  Amazon   \n",
       "2  Amazon Kindle E-Reader 6\" Wifi (8th Generation...  B00ZV9PXP2  Amazon   \n",
       "3  Amazon Kindle E-Reader 6\" Wifi (8th Generation...  B00ZV9PXP2  Amazon   \n",
       "4  Amazon Kindle E-Reader 6\" Wifi (8th Generation...  B00ZV9PXP2  Amazon   \n",
       "\n",
       "                                          categories primaryCategories  \\\n",
       "0  Computers,Electronics Features,Tablets,Electro...       Electronics   \n",
       "1  Computers,Electronics Features,Tablets,Electro...       Electronics   \n",
       "2  Computers,Electronics Features,Tablets,Electro...       Electronics   \n",
       "3  Computers,Electronics Features,Tablets,Electro...       Electronics   \n",
       "4  Computers,Electronics Features,Tablets,Electro...       Electronics   \n",
       "\n",
       "                                           imageURLs  \\\n",
       "0  https://pisces.bbystatic.com/image2/BestBuy_US...   \n",
       "1  https://pisces.bbystatic.com/image2/BestBuy_US...   \n",
       "2  https://pisces.bbystatic.com/image2/BestBuy_US...   \n",
       "3  https://pisces.bbystatic.com/image2/BestBuy_US...   \n",
       "4  https://pisces.bbystatic.com/image2/BestBuy_US...   \n",
       "\n",
       "                                                keys  \\\n",
       "0  allnewkindleereaderblack6glarefreetouchscreend...   \n",
       "1  allnewkindleereaderblack6glarefreetouchscreend...   \n",
       "2  allnewkindleereaderblack6glarefreetouchscreend...   \n",
       "3  allnewkindleereaderblack6glarefreetouchscreend...   \n",
       "4  allnewkindleereaderblack6glarefreetouchscreend...   \n",
       "\n",
       "                         ...                          \\\n",
       "0                        ...                           \n",
       "1                        ...                           \n",
       "2                        ...                           \n",
       "3                        ...                           \n",
       "4                        ...                           \n",
       "\n",
       "                                    reviews.dateSeen reviews.doRecommend  \\\n",
       "0  2018-05-27T00:00:00Z,2017-09-18T00:00:00Z,2017...               False   \n",
       "1  2018-05-27T00:00:00Z,2017-07-07T00:00:00Z,2017...                True   \n",
       "2                               2018-05-27T00:00:00Z                True   \n",
       "3                               2018-10-09T00:00:00Z                True   \n",
       "4                               2018-05-27T00:00:00Z                True   \n",
       "\n",
       "    reviews.id reviews.numHelpful reviews.rating  \\\n",
       "0          NaN                  0              3   \n",
       "1          NaN                  0              5   \n",
       "2          NaN                  0              4   \n",
       "3  177283626.0                  3              5   \n",
       "4          NaN                  0              5   \n",
       "\n",
       "                                  reviews.sourceURLs  \\\n",
       "0  http://reviews.bestbuy.com/3545/5442403/review...   \n",
       "1  http://reviews.bestbuy.com/3545/5442403/review...   \n",
       "2  https://reviews.bestbuy.com/3545/5442403/revie...   \n",
       "3  https://redsky.target.com/groot-domain-api/v1/...   \n",
       "4  https://reviews.bestbuy.com/3545/5442403/revie...   \n",
       "\n",
       "                                        reviews.text  \\\n",
       "0  I thought it would be as big as small paper bu...   \n",
       "1  This kindle is light and easy to use especiall...   \n",
       "2  Didnt know how much i'd use a kindle so went f...   \n",
       "3  I am 100 happy with my purchase. I caught it o...   \n",
       "4  Solid entry level Kindle. Great for kids. Gift...   \n",
       "\n",
       "                                  reviews.title  reviews.username  \\\n",
       "0                                     Too small            llyyue   \n",
       "1  Great light reader. Easy to use at the beach            Charmi   \n",
       "2                           Great for the price      johnnyjojojo   \n",
       "3                                   A Great Buy           Kdperry   \n",
       "4      Solid entry-level Kindle. Great for kids       Johnnyblack   \n",
       "\n",
       "                                          sourceURLs  \n",
       "0  https://www.newegg.com/Product/Product.aspx%25...  \n",
       "1  https://www.newegg.com/Product/Product.aspx%25...  \n",
       "2  https://www.newegg.com/Product/Product.aspx%25...  \n",
       "3  https://www.newegg.com/Product/Product.aspx%25...  \n",
       "4  https://www.newegg.com/Product/Product.aspx%25...  \n",
       "\n",
       "[5 rows x 24 columns]"
      ]
     },
     "execution_count": 74,
     "metadata": {},
     "output_type": "execute_result"
    }
   ],
   "source": [
    "df.head()"
   ]
  },
  {
   "cell_type": "code",
   "execution_count": 75,
   "metadata": {
    "slideshow": {
     "slide_type": "subslide"
    }
   },
   "outputs": [
    {
     "data": {
      "text/plain": [
       "array(['Electronics', 'Electronics,Hardware',\n",
       "       'Office Supplies,Electronics', 'Electronics,Media'], dtype=object)"
      ]
     },
     "execution_count": 75,
     "metadata": {},
     "output_type": "execute_result"
    }
   ],
   "source": [
    "df.primaryCategories.unique()"
   ]
  },
  {
   "cell_type": "code",
   "execution_count": 76,
   "metadata": {
    "slideshow": {
     "slide_type": "slide"
    }
   },
   "outputs": [
    {
     "data": {
      "text/html": [
       "<div>\n",
       "<style scoped>\n",
       "    .dataframe tbody tr th:only-of-type {\n",
       "        vertical-align: middle;\n",
       "    }\n",
       "\n",
       "    .dataframe tbody tr th {\n",
       "        vertical-align: top;\n",
       "    }\n",
       "\n",
       "    .dataframe thead th {\n",
       "        text-align: right;\n",
       "    }\n",
       "</style>\n",
       "<table border=\"1\" class=\"dataframe\">\n",
       "  <thead>\n",
       "    <tr style=\"text-align: right;\">\n",
       "      <th></th>\n",
       "      <th>reviews.username</th>\n",
       "      <th>reviews.text</th>\n",
       "    </tr>\n",
       "  </thead>\n",
       "  <tbody>\n",
       "    <tr>\n",
       "      <th>2364</th>\n",
       "      <td>Jenn</td>\n",
       "      <td>I've had lots of tablets in the past, mostly f...</td>\n",
       "    </tr>\n",
       "    <tr>\n",
       "      <th>4871</th>\n",
       "      <td>Jenn</td>\n",
       "      <td>I've had lots of tablets in the past, mostly f...</td>\n",
       "    </tr>\n",
       "    <tr>\n",
       "      <th>70</th>\n",
       "      <td>Kev</td>\n",
       "      <td>Looking at the picture and seeing it was 8th g...</td>\n",
       "    </tr>\n",
       "    <tr>\n",
       "      <th>4054</th>\n",
       "      <td>Phil</td>\n",
       "      <td>I bought my Fire HD8 as an alternative to carr...</td>\n",
       "    </tr>\n",
       "    <tr>\n",
       "      <th>4777</th>\n",
       "      <td>Sluggo2013</td>\n",
       "      <td>Despite not being able to get one of these fro...</td>\n",
       "    </tr>\n",
       "    <tr>\n",
       "      <th>186</th>\n",
       "      <td>gadgetguy11</td>\n",
       "      <td>When I first read about Amazon Echo Show, I th...</td>\n",
       "    </tr>\n",
       "    <tr>\n",
       "      <th>383</th>\n",
       "      <td>WMKnox</td>\n",
       "      <td>I loved this thing until it was time to go to ...</td>\n",
       "    </tr>\n",
       "    <tr>\n",
       "      <th>1876</th>\n",
       "      <td>Amazonqueen</td>\n",
       "      <td>This is a great tablet if you have reasonable ...</td>\n",
       "    </tr>\n",
       "    <tr>\n",
       "      <th>3409</th>\n",
       "      <td>Earthdog</td>\n",
       "      <td>I have a Paper White 1 and 2. Honestly it is d...</td>\n",
       "    </tr>\n",
       "    <tr>\n",
       "      <th>462</th>\n",
       "      <td>Anonymous</td>\n",
       "      <td>Love that I can view my arlo cams on it , love...</td>\n",
       "    </tr>\n",
       "  </tbody>\n",
       "</table>\n",
       "</div>"
      ],
      "text/plain": [
       "     reviews.username                                       reviews.text\n",
       "2364             Jenn  I've had lots of tablets in the past, mostly f...\n",
       "4871             Jenn  I've had lots of tablets in the past, mostly f...\n",
       "70                Kev  Looking at the picture and seeing it was 8th g...\n",
       "4054             Phil  I bought my Fire HD8 as an alternative to carr...\n",
       "4777       Sluggo2013  Despite not being able to get one of these fro...\n",
       "186       gadgetguy11  When I first read about Amazon Echo Show, I th...\n",
       "383            WMKnox  I loved this thing until it was time to go to ...\n",
       "1876      Amazonqueen  This is a great tablet if you have reasonable ...\n",
       "3409         Earthdog  I have a Paper White 1 and 2. Honestly it is d...\n",
       "462         Anonymous  Love that I can view my arlo cams on it , love..."
      ]
     },
     "execution_count": 76,
     "metadata": {},
     "output_type": "execute_result"
    }
   ],
   "source": [
    "df.nlargest(10, 'reviews.numHelpful')[['reviews.username', 'reviews.text']]"
   ]
  },
  {
   "cell_type": "markdown",
   "metadata": {
    "slideshow": {
     "slide_type": "slide"
    }
   },
   "source": [
    "## Topic Models"
   ]
  },
  {
   "cell_type": "code",
   "execution_count": 77,
   "metadata": {
    "slideshow": {
     "slide_type": "subslide"
    }
   },
   "outputs": [],
   "source": [
    "from gensim import corpora \n",
    "from gensim.models.ldamodel import LdaModel\n",
    "from gensim.parsing.preprocessing import STOPWORDS\n",
    "import pprint"
   ]
  },
  {
   "cell_type": "code",
   "execution_count": 78,
   "metadata": {
    "slideshow": {
     "slide_type": "subslide"
    }
   },
   "outputs": [],
   "source": [
    "# root = 'data/'\n",
    "# filetype = 'alice.txt'\n",
    "root = 'ocr'\n",
    "filetype = '.*\\.txt'\n",
    "corpus = PlaintextCorpusReader(root, filetype)"
   ]
  },
  {
   "cell_type": "code",
   "execution_count": 79,
   "metadata": {
    "slideshow": {
     "slide_type": "slide"
    }
   },
   "outputs": [
    {
     "data": {
      "text/plain": [
       "[['<', 'plain_text', '>', '<', 'page', 'sequence', '=\"', '1', '\">', '3', '.', '5', 'Digital', 'tools', 'for', 'bridging', 'the', 'knowledge', 'gap', 'to', 'university', 'mathematics', 'eirini', 'geraniou', 'UCL', 'Institute', 'of', 'Education', 'manolis', 'mavrikis', 'and', 'maria', 'margeti', 'UCL', 'Knowledge', 'Lab', '1', '.'], ['Introduction', 'According', 'to', 'the', 'Organisation', 'for', 'Economic', 'Cooperation', 'and', 'Development', '(', 'OECD', '),', 'England', 'has', 'three', 'times', 'more', 'low', '-', 'skilled', 'people', 'among', 'sixteen', '-', 'to', 'nineteen', '-', 'year', '-', 'o', 'lds', 'than', 'the', 'best', '-', 'p', 'erforming', 'countries', '(', 'Kuczera', 'et', 'al', '.'], ...]"
      ]
     },
     "execution_count": 79,
     "metadata": {},
     "output_type": "execute_result"
    }
   ],
   "source": [
    "corpus.sents()"
   ]
  },
  {
   "cell_type": "code",
   "execution_count": 80,
   "metadata": {
    "slideshow": {
     "slide_type": "subslide"
    }
   },
   "outputs": [],
   "source": [
    "words = corpus.words()"
   ]
  },
  {
   "cell_type": "code",
   "execution_count": 81,
   "metadata": {
    "slideshow": {
     "slide_type": "subslide"
    }
   },
   "outputs": [],
   "source": [
    "texts = [[word for word in sentence if word not in STOPWORDS and word.isalnum()] for sentence in corpus.sents()]"
   ]
  },
  {
   "cell_type": "code",
   "execution_count": 82,
   "metadata": {
    "slideshow": {
     "slide_type": "fragment"
    }
   },
   "outputs": [
    {
     "data": {
      "text/plain": [
       "1978716"
      ]
     },
     "execution_count": 82,
     "metadata": {},
     "output_type": "execute_result"
    }
   ],
   "source": [
    "len(texts)"
   ]
  },
  {
   "cell_type": "code",
   "execution_count": 83,
   "metadata": {
    "slideshow": {
     "slide_type": "slide"
    }
   },
   "outputs": [
    {
     "data": {
      "text/plain": [
       "[['It',\n",
       "  'consider',\n",
       "  'innovative',\n",
       "  'technologies',\n",
       "  'asso',\n",
       "  'ciated',\n",
       "  'pedagogies',\n",
       "  'help',\n",
       "  'students',\n",
       "  'bridge',\n",
       "  'gap',\n",
       "  'university',\n",
       "  'mathematics',\n",
       "  'achieve',\n",
       "  'potential',\n",
       "  'degrees'],\n",
       " ['Without',\n",
       "  'endorsing',\n",
       "  'specific',\n",
       "  'tools',\n",
       "  'provide',\n",
       "  'brief',\n",
       "  'descrip',\n",
       "  'tion',\n",
       "  'digital',\n",
       "  'technologies',\n",
       "  'transform',\n",
       "  'higher',\n",
       "  'education',\n",
       "  'pedagogy']]"
      ]
     },
     "execution_count": 83,
     "metadata": {},
     "output_type": "execute_result"
    }
   ],
   "source": [
    "texts[10:12]"
   ]
  },
  {
   "cell_type": "code",
   "execution_count": 84,
   "metadata": {
    "slideshow": {
     "slide_type": "slide"
    }
   },
   "outputs": [],
   "source": [
    "#prepare the matrix\n",
    "dictionary = corpora.Dictionary(texts)\n",
    "corpus = [dictionary.doc2bow(text) for text in texts]"
   ]
  },
  {
   "cell_type": "code",
   "execution_count": 85,
   "metadata": {
    "slideshow": {
     "slide_type": "subslide"
    }
   },
   "outputs": [],
   "source": [
    "lda = LdaModel(corpus, id2word=dictionary, num_topics= 4, passes = 3)"
   ]
  },
  {
   "cell_type": "code",
   "execution_count": 86,
   "metadata": {
    "slideshow": {
     "slide_type": "subslide"
    }
   },
   "outputs": [
    {
     "name": "stdout",
     "output_type": "stream",
     "text": [
      "[   (   0,\n",
      "        '0.041*\"page\" + 0.025*\"Mathematics\" + 0.022*\"sequence\" + '\n",
      "        '0.014*\"Education\" + 0.011*\"Research\" + 0.009*\"University\" + '\n",
      "        '0.009*\"pp\" + 0.009*\"Journal\" + 0.007*\"New\" + 0.007*\"Educational\"'),\n",
      "    (   1,\n",
      "        '0.018*\"students\" + 0.014*\"mathematics\" + 0.013*\"The\" + 0.009*\"s\" + '\n",
      "        '0.008*\"teachers\" + 0.006*\"learning\" + 0.006*\"research\" + '\n",
      "        '0.006*\"mathematical\" + 0.005*\"teacher\" + 0.005*\"teaching\"'),\n",
      "    (   2,\n",
      "        '0.058*\"1\" + 0.048*\"2\" + 0.042*\"0\" + 0.039*\"3\" + 0.030*\"4\" + 0.024*\"5\" '\n",
      "        '+ 0.021*\"10\" + 0.019*\"I\" + 0.018*\"6\" + 0.015*\"8\"'),\n",
      "    (   3,\n",
      "        '0.054*\"amp\" + 0.039*\"A\" + 0.023*\"J\" + 0.023*\"M\" + 0.017*\"S\" + '\n",
      "        '0.016*\"D\" + 0.016*\"In\" + 0.014*\"B\" + 0.013*\"R\" + 0.013*\"C\"')]\n"
     ]
    }
   ],
   "source": [
    "pp = pprint.PrettyPrinter(indent = 4)\n",
    "pp.pprint(lda.print_topics(num_words = 10))"
   ]
  },
  {
   "cell_type": "code",
   "execution_count": 87,
   "metadata": {
    "slideshow": {
     "slide_type": "subslide"
    }
   },
   "outputs": [],
   "source": [
    "lda = LdaModel(corpus, id2word=dictionary, num_topics= 50, passes = 3)"
   ]
  },
  {
   "cell_type": "code",
   "execution_count": 88,
   "metadata": {
    "slideshow": {
     "slide_type": "slide"
    }
   },
   "outputs": [
    {
     "name": "stdout",
     "output_type": "stream",
     "text": [
      "[   (   6,\n",
      "        '0.126*\"We\" + 0.051*\"making\" + 0.038*\"response\" + 0.030*\"word\" + '\n",
      "        '0.029*\"London\" + 0.019*\"positioning\" + 0.017*\"Myles\" + '\n",
      "        '0.015*\"decision\" + 0.012*\"Author\" + 0.011*\"Developing\"'),\n",
      "    (   26,\n",
      "        '0.053*\"curriculum\" + 0.044*\"development\" + 0.044*\"ideas\" + 0.043*\"et\" '\n",
      "        '+ 0.043*\"al\" + 0.036*\"2007\" + 0.032*\"asked\" + 0.022*\"program\" + '\n",
      "        '0.020*\"professional\" + 0.020*\"teach\"'),\n",
      "    (   14,\n",
      "        '0.086*\"New\" + 0.062*\"York\" + 0.030*\"English\" + 0.027*\"Children\" + '\n",
      "        '0.025*\"item\" + 0.023*\"Press\" + 0.021*\"From\" + 0.019*\"proofs\" + '\n",
      "        '0.016*\"Adams\" + 0.014*\"Proof\"'),\n",
      "    (   5,\n",
      "        '0.230*\"0\" + 0.082*\"e\" + 0.064*\"g\" + 0.050*\"Table\" + 0.036*\"n\" + '\n",
      "        '0.031*\"relationship\" + 0.018*\"00\" + 0.016*\"left\" + 0.013*\"After\" + '\n",
      "        '0.011*\"variable\"'),\n",
      "    (   48,\n",
      "        '0.066*\"school\" + 0.051*\"students\" + 0.035*\"data\" + 0.029*\"The\" + '\n",
      "        '0.026*\"high\" + 0.026*\"study\" + 0.025*\"analysis\" + 0.022*\"math\" + '\n",
      "        '0.017*\"concepts\" + 0.017*\"year\"'),\n",
      "    (   46,\n",
      "        '0.086*\"T\" + 0.074*\"What\" + 0.069*\"t\" + 0.051*\"theory\" + '\n",
      "        '0.036*\"college\" + 0.029*\"result\" + 0.021*\"fraction\" + '\n",
      "        '0.021*\"constructed\" + 0.020*\"You\" + 0.019*\"Martin\"'),\n",
      "    (   29,\n",
      "        '0.054*\"schools\" + 0.048*\"help\" + 0.047*\"2001\" + 0.031*\"focused\" + '\n",
      "        '0.025*\"difference\" + 0.023*\"structures\" + 0.022*\"difficulty\" + '\n",
      "        '0.021*\"But\" + 0.021*\"approaches\" + 0.020*\"pedagogical\"'),\n",
      "    (   7,\n",
      "        '0.110*\"10\" + 0.067*\"doi\" + 0.039*\"1998\" + 0.023*\"having\" + '\n",
      "        '0.023*\"participation\" + 0.022*\"success\" + 0.017*\"draw\" + '\n",
      "        '0.015*\"parallelogram\" + 0.014*\"rectangles\" + 0.014*\"roles\"'),\n",
      "    (   4,\n",
      "        '0.052*\"Vol\" + 0.049*\"How\" + 0.047*\"proof\" + 0.036*\"V\" + '\n",
      "        '0.035*\"people\" + 0.031*\"There\" + 0.027*\"correct\" + 0.027*\"1993\" + '\n",
      "        '0.020*\"determine\" + 0.020*\"solutions\"'),\n",
      "    (   9,\n",
      "        '0.274*\"s\" + 0.090*\"children\" + 0.033*\"like\" + 0.022*\"It\" + '\n",
      "        '0.020*\"responses\" + 0.020*\"findings\" + 0.020*\"child\" + '\n",
      "        '0.019*\"interview\" + 0.019*\"explain\" + 0.016*\"appropriate\"'),\n",
      "    (   1,\n",
      "        '0.124*\"1\" + 0.083*\"3\" + 0.069*\"2\" + 0.065*\"4\" + 0.051*\"5\" + 0.038*\"6\" '\n",
      "        '+ 0.033*\"8\" + 0.030*\"7\" + 0.023*\"9\" + 0.019*\"10\"'),\n",
      "    (   34,\n",
      "        '0.157*\"mathematics\" + 0.123*\"education\" + 0.028*\"The\" + '\n",
      "        '0.021*\"science\" + 0.021*\"angles\" + 0.020*\"values\" + 0.017*\"end\" + '\n",
      "        '0.017*\"half\" + 0.014*\"parts\" + 0.013*\"Washington\"'),\n",
      "    (   33,\n",
      "        '0.215*\"I\" + 0.038*\"focus\" + 0.037*\"think\" + 0.033*\"model\" + '\n",
      "        '0.024*\"1996\" + 0.021*\"measure\" + 0.021*\"standards\" + 0.019*\"present\" '\n",
      "        '+ 0.018*\"d\" + 0.015*\"paper\"'),\n",
      "    (   41,\n",
      "        '0.093*\"problem\" + 0.050*\"solving\" + 0.048*\"understanding\" + '\n",
      "        '0.035*\"approach\" + 0.026*\"mathematical\" + 0.025*\"strategy\" + '\n",
      "        '0.024*\"geometry\" + 0.019*\"reform\" + 0.018*\"And\" + 0.017*\"measures\"'),\n",
      "    (   17,\n",
      "        '0.082*\"Educational\" + 0.045*\"participants\" + 0.034*\"Mathematics\" + '\n",
      "        '0.033*\"Studies\" + 0.032*\"1990\" + 0.030*\"Student\" + 0.027*\"Psychology\" '\n",
      "        '+ 0.021*\"observed\" + 0.020*\"Math\" + 0.018*\"views\"'),\n",
      "    (   13,\n",
      "        '0.086*\"reasoning\" + 0.044*\"effect\" + 0.032*\"women\" + 0.031*\"game\" + '\n",
      "        '0.028*\"Thus\" + 0.027*\"tions\" + 0.025*\"1987\" + 0.025*\"secondary\" + '\n",
      "        '0.020*\"greater\" + 0.019*\"spatial\"'),\n",
      "    (   49,\n",
      "        '0.051*\"knowledge\" + 0.042*\"mathematical\" + 0.032*\"thinking\" + '\n",
      "        '0.026*\"The\" + 0.019*\"students\" + 0.017*\"language\" + 0.016*\"area\" + '\n",
      "        '0.016*\"use\" + 0.013*\"point\" + 0.011*\"following\"'),\n",
      "    (   45,\n",
      "        '0.098*\"G\" + 0.062*\"2004\" + 0.051*\"They\" + 0.036*\"Cobb\" + '\n",
      "        '0.031*\"interviews\" + 0.030*\"Ms\" + 0.022*\"indicated\" + '\n",
      "        '0.017*\"distribution\" + 0.013*\"von\" + 0.013*\"Glasersfeld\"'),\n",
      "    (   43,\n",
      "        '0.073*\"discourse\" + 0.065*\"No\" + 0.041*\"m\" + 0.037*\"rectangle\" + '\n",
      "        '0.037*\"2012\" + 0.025*\"Second\" + 0.024*\"functions\" + '\n",
      "        '0.023*\"Proceedings\" + 0.023*\"graph\" + 0.020*\"average\"'),\n",
      "    (   25,\n",
      "        '0.038*\"On\" + 0.024*\"Task\" + 0.016*\"behavior\" + 0.016*\"1980\" + '\n",
      "        '0.015*\"treatment\" + 0.014*\"followed\" + 0.014*\"March\" + '\n",
      "        '0.013*\"specifically\" + 0.012*\"Another\" + 0.011*\"ABC\"')]\n"
     ]
    }
   ],
   "source": [
    "pp = pprint.PrettyPrinter(indent = 4)\n",
    "pp.pprint(lda.print_topics(num_words = 10))"
   ]
  },
  {
   "cell_type": "code",
   "execution_count": 93,
   "metadata": {
    "slideshow": {
     "slide_type": "slide"
    }
   },
   "outputs": [],
   "source": [
    "from gensim.test.utils import datapath\n",
    "temp_file = datapath(\"model\")\n",
    "lda.save(temp_file)"
   ]
  },
  {
   "cell_type": "code",
   "execution_count": 94,
   "metadata": {
    "slideshow": {
     "slide_type": "subslide"
    }
   },
   "outputs": [],
   "source": [
    "# Load a potentially pretrained model from disk.\n",
    "lda = LdaModel.load(temp_file)"
   ]
  },
  {
   "cell_type": "markdown",
   "metadata": {
    "slideshow": {
     "slide_type": "slide"
    }
   },
   "source": [
    "## Predictive Modeling with Text"
   ]
  },
  {
   "cell_type": "code",
   "execution_count": 99,
   "metadata": {
    "slideshow": {
     "slide_type": "subslide"
    }
   },
   "outputs": [],
   "source": [
    "df = pd.read_csv('data/yelp.csv')"
   ]
  },
  {
   "cell_type": "code",
   "execution_count": 101,
   "metadata": {
    "slideshow": {
     "slide_type": "subslide"
    }
   },
   "outputs": [
    {
     "data": {
      "text/html": [
       "<div>\n",
       "<style scoped>\n",
       "    .dataframe tbody tr th:only-of-type {\n",
       "        vertical-align: middle;\n",
       "    }\n",
       "\n",
       "    .dataframe tbody tr th {\n",
       "        vertical-align: top;\n",
       "    }\n",
       "\n",
       "    .dataframe thead th {\n",
       "        text-align: right;\n",
       "    }\n",
       "</style>\n",
       "<table border=\"1\" class=\"dataframe\">\n",
       "  <thead>\n",
       "    <tr style=\"text-align: right;\">\n",
       "      <th></th>\n",
       "      <th>business_id</th>\n",
       "      <th>date</th>\n",
       "      <th>review_id</th>\n",
       "      <th>stars</th>\n",
       "      <th>text</th>\n",
       "      <th>type</th>\n",
       "      <th>user_id</th>\n",
       "      <th>cool</th>\n",
       "      <th>useful</th>\n",
       "      <th>funny</th>\n",
       "    </tr>\n",
       "  </thead>\n",
       "  <tbody>\n",
       "    <tr>\n",
       "      <th>0</th>\n",
       "      <td>9yKzy9PApeiPPOUJEtnvkg</td>\n",
       "      <td>2011-01-26</td>\n",
       "      <td>fWKvX83p0-ka4JS3dc6E5A</td>\n",
       "      <td>5</td>\n",
       "      <td>My wife took me here on my birthday for breakf...</td>\n",
       "      <td>review</td>\n",
       "      <td>rLtl8ZkDX5vH5nAx9C3q5Q</td>\n",
       "      <td>2</td>\n",
       "      <td>5</td>\n",
       "      <td>0</td>\n",
       "    </tr>\n",
       "    <tr>\n",
       "      <th>1</th>\n",
       "      <td>ZRJwVLyzEJq1VAihDhYiow</td>\n",
       "      <td>2011-07-27</td>\n",
       "      <td>IjZ33sJrzXqU-0X6U8NwyA</td>\n",
       "      <td>5</td>\n",
       "      <td>I have no idea why some people give bad review...</td>\n",
       "      <td>review</td>\n",
       "      <td>0a2KyEL0d3Yb1V6aivbIuQ</td>\n",
       "      <td>0</td>\n",
       "      <td>0</td>\n",
       "      <td>0</td>\n",
       "    </tr>\n",
       "    <tr>\n",
       "      <th>2</th>\n",
       "      <td>6oRAC4uyJCsJl1X0WZpVSA</td>\n",
       "      <td>2012-06-14</td>\n",
       "      <td>IESLBzqUCLdSzSqm0eCSxQ</td>\n",
       "      <td>4</td>\n",
       "      <td>love the gyro plate. Rice is so good and I als...</td>\n",
       "      <td>review</td>\n",
       "      <td>0hT2KtfLiobPvh6cDC8JQg</td>\n",
       "      <td>0</td>\n",
       "      <td>1</td>\n",
       "      <td>0</td>\n",
       "    </tr>\n",
       "    <tr>\n",
       "      <th>3</th>\n",
       "      <td>_1QQZuf4zZOyFCvXc0o6Vg</td>\n",
       "      <td>2010-05-27</td>\n",
       "      <td>G-WvGaISbqqaMHlNnByodA</td>\n",
       "      <td>5</td>\n",
       "      <td>Rosie, Dakota, and I LOVE Chaparral Dog Park!!...</td>\n",
       "      <td>review</td>\n",
       "      <td>uZetl9T0NcROGOyFfughhg</td>\n",
       "      <td>1</td>\n",
       "      <td>2</td>\n",
       "      <td>0</td>\n",
       "    </tr>\n",
       "    <tr>\n",
       "      <th>4</th>\n",
       "      <td>6ozycU1RpktNG2-1BroVtw</td>\n",
       "      <td>2012-01-05</td>\n",
       "      <td>1uJFq2r5QfJG_6ExMRCaGw</td>\n",
       "      <td>5</td>\n",
       "      <td>General Manager Scott Petello is a good egg!!!...</td>\n",
       "      <td>review</td>\n",
       "      <td>vYmM4KTsC8ZfQBg-j5MWkw</td>\n",
       "      <td>0</td>\n",
       "      <td>0</td>\n",
       "      <td>0</td>\n",
       "    </tr>\n",
       "  </tbody>\n",
       "</table>\n",
       "</div>"
      ],
      "text/plain": [
       "              business_id        date               review_id  stars  \\\n",
       "0  9yKzy9PApeiPPOUJEtnvkg  2011-01-26  fWKvX83p0-ka4JS3dc6E5A      5   \n",
       "1  ZRJwVLyzEJq1VAihDhYiow  2011-07-27  IjZ33sJrzXqU-0X6U8NwyA      5   \n",
       "2  6oRAC4uyJCsJl1X0WZpVSA  2012-06-14  IESLBzqUCLdSzSqm0eCSxQ      4   \n",
       "3  _1QQZuf4zZOyFCvXc0o6Vg  2010-05-27  G-WvGaISbqqaMHlNnByodA      5   \n",
       "4  6ozycU1RpktNG2-1BroVtw  2012-01-05  1uJFq2r5QfJG_6ExMRCaGw      5   \n",
       "\n",
       "                                                text    type  \\\n",
       "0  My wife took me here on my birthday for breakf...  review   \n",
       "1  I have no idea why some people give bad review...  review   \n",
       "2  love the gyro plate. Rice is so good and I als...  review   \n",
       "3  Rosie, Dakota, and I LOVE Chaparral Dog Park!!...  review   \n",
       "4  General Manager Scott Petello is a good egg!!!...  review   \n",
       "\n",
       "                  user_id  cool  useful  funny  \n",
       "0  rLtl8ZkDX5vH5nAx9C3q5Q     2       5      0  \n",
       "1  0a2KyEL0d3Yb1V6aivbIuQ     0       0      0  \n",
       "2  0hT2KtfLiobPvh6cDC8JQg     0       1      0  \n",
       "3  uZetl9T0NcROGOyFfughhg     1       2      0  \n",
       "4  vYmM4KTsC8ZfQBg-j5MWkw     0       0      0  "
      ]
     },
     "execution_count": 101,
     "metadata": {},
     "output_type": "execute_result"
    }
   ],
   "source": [
    "df.head()"
   ]
  },
  {
   "cell_type": "code",
   "execution_count": 102,
   "metadata": {
    "slideshow": {
     "slide_type": "subslide"
    }
   },
   "outputs": [
    {
     "data": {
      "text/plain": [
       "4    3526\n",
       "5    3337\n",
       "3    1461\n",
       "2     927\n",
       "1     749\n",
       "Name: stars, dtype: int64"
      ]
     },
     "execution_count": 102,
     "metadata": {},
     "output_type": "execute_result"
    }
   ],
   "source": [
    "df.stars.value_counts()"
   ]
  },
  {
   "cell_type": "code",
   "execution_count": 103,
   "metadata": {
    "slideshow": {
     "slide_type": "fragment"
    }
   },
   "outputs": [],
   "source": [
    "from sklearn.feature_extraction.text import CountVectorizer, TfidfVectorizer"
   ]
  },
  {
   "cell_type": "code",
   "execution_count": 104,
   "metadata": {
    "slideshow": {
     "slide_type": "fragment"
    }
   },
   "outputs": [],
   "source": [
    "cvect = CountVectorizer()"
   ]
  },
  {
   "cell_type": "code",
   "execution_count": 105,
   "metadata": {
    "slideshow": {
     "slide_type": "fragment"
    }
   },
   "outputs": [
    {
     "data": {
      "text/plain": [
       "<10000x29185 sparse matrix of type '<class 'numpy.int64'>'\n",
       "\twith 827105 stored elements in Compressed Sparse Row format>"
      ]
     },
     "execution_count": 105,
     "metadata": {},
     "output_type": "execute_result"
    }
   ],
   "source": [
    "cvect.fit_transform(df.text)"
   ]
  },
  {
   "cell_type": "code",
   "execution_count": 107,
   "metadata": {
    "slideshow": {
     "slide_type": "slide"
    }
   },
   "outputs": [
    {
     "data": {
      "text/plain": [
       "['00', '000', '007', '00a', '00am', '00pm', '01', '02', '03', '03342']"
      ]
     },
     "execution_count": 107,
     "metadata": {},
     "output_type": "execute_result"
    }
   ],
   "source": [
    "cvect.get_feature_names()[:10]"
   ]
  },
  {
   "cell_type": "code",
   "execution_count": 113,
   "metadata": {
    "slideshow": {
     "slide_type": "fragment"
    }
   },
   "outputs": [],
   "source": [
    "words = cvect.fit_transform(df.text)"
   ]
  },
  {
   "cell_type": "code",
   "execution_count": 114,
   "metadata": {
    "slideshow": {
     "slide_type": "fragment"
    }
   },
   "outputs": [
    {
     "data": {
      "text/plain": [
       "<10000x29185 sparse matrix of type '<class 'numpy.int64'>'\n",
       "\twith 827105 stored elements in Compressed Sparse Row format>"
      ]
     },
     "execution_count": 114,
     "metadata": {},
     "output_type": "execute_result"
    }
   ],
   "source": [
    "words"
   ]
  },
  {
   "cell_type": "code",
   "execution_count": 112,
   "metadata": {
    "slideshow": {
     "slide_type": "slide"
    }
   },
   "outputs": [
    {
     "data": {
      "text/plain": [
       "array([[0, 0, 0, ..., 0, 0, 0],\n",
       "       [0, 0, 0, ..., 0, 0, 0],\n",
       "       [0, 0, 0, ..., 0, 0, 0],\n",
       "       ...,\n",
       "       [0, 0, 0, ..., 0, 0, 0],\n",
       "       [0, 0, 0, ..., 0, 0, 0],\n",
       "       [0, 0, 0, ..., 0, 0, 0]], dtype=int64)"
      ]
     },
     "execution_count": 112,
     "metadata": {},
     "output_type": "execute_result"
    }
   ],
   "source": [
    "words.toarray()"
   ]
  },
  {
   "cell_type": "code",
   "execution_count": 116,
   "metadata": {
    "slideshow": {
     "slide_type": "slide"
    }
   },
   "outputs": [],
   "source": [
    "from sklearn.pipeline import make_pipeline\n",
    "from sklearn.linear_model import LinearRegression"
   ]
  },
  {
   "cell_type": "code",
   "execution_count": 119,
   "metadata": {
    "slideshow": {
     "slide_type": "subslide"
    }
   },
   "outputs": [],
   "source": [
    "pipe = make_pipeline(CountVectorizer(max_features=300), LinearRegression())"
   ]
  },
  {
   "cell_type": "code",
   "execution_count": 120,
   "metadata": {
    "slideshow": {
     "slide_type": "subslide"
    }
   },
   "outputs": [],
   "source": [
    "X = df.text\n",
    "y = df.stars"
   ]
  },
  {
   "cell_type": "code",
   "execution_count": 121,
   "metadata": {
    "slideshow": {
     "slide_type": "fragment"
    }
   },
   "outputs": [
    {
     "data": {
      "text/plain": [
       "Pipeline(memory=None,\n",
       "     steps=[('countvectorizer', CountVectorizer(analyzer='word', binary=False, decode_error='strict',\n",
       "        dtype=<class 'numpy.int64'>, encoding='utf-8', input='content',\n",
       "        lowercase=True, max_df=1.0, max_features=300, min_df=1,\n",
       "        ngram_range=(1, 1), preprocessor=None, stop_words=None,\n",
       "   ... ('linearregression', LinearRegression(copy_X=True, fit_intercept=True, n_jobs=1, normalize=False))])"
      ]
     },
     "execution_count": 121,
     "metadata": {},
     "output_type": "execute_result"
    }
   ],
   "source": [
    "pipe.fit(X, y)"
   ]
  },
  {
   "cell_type": "code",
   "execution_count": 122,
   "metadata": {
    "slideshow": {
     "slide_type": "subslide"
    }
   },
   "outputs": [
    {
     "data": {
      "text/plain": [
       "0.3466336754899331"
      ]
     },
     "execution_count": 122,
     "metadata": {},
     "output_type": "execute_result"
    }
   ],
   "source": [
    "pipe.score(X, y)"
   ]
  },
  {
   "cell_type": "markdown",
   "metadata": {
    "slideshow": {
     "slide_type": "slide"
    }
   },
   "source": [
    "## Summarizer"
   ]
  },
  {
   "cell_type": "code",
   "execution_count": 202,
   "metadata": {
    "slideshow": {
     "slide_type": "slide"
    }
   },
   "outputs": [],
   "source": [
    "import nltk\n",
    "# nltk.download('stopwords')\n",
    "# nltk.download('punkt')\n",
    "\n",
    "from nltk.tokenize import sent_tokenize, word_tokenize\n",
    "from string import punctuation\n",
    "from heapq import nlargest\n",
    "from collections import defaultdict\n",
    "\n",
    "class FrequencySummarizer:\n",
    "    \n",
    "    def __init__(self, min_cut = 0.1, max_cut = 0.9):\n",
    "        self._min_cut = min_cut\n",
    "        self._max_cut = max_cut\n",
    "        self._stopwords = set(stopwords)\n",
    "        \n",
    "    def compute_frequencies(self, word_sent):\n",
    "        freq = defaultdict(int)\n",
    "        \n",
    "        for sentence in word_sent:\n",
    "            \n",
    "            for word in sentence:\n",
    "                if word not in self._stopwords:\n",
    "                    freq[word] += 1\n",
    "                        \n",
    "        max_freq = float(max(freq.values()))               \n",
    "    \n",
    "        for word in freq.keys():\n",
    "\n",
    "            freq[word] = freq[word]/max_freq\n",
    "            \n",
    "        if freq[word] >= self._max_cut or freq[word] <= self._min_cut:\n",
    "            del freq[word]\n",
    "        return freq\n",
    "\n",
    "    def summarize(self, text, n):\n",
    "        sents = sent_tokenize(text)\n",
    "        \n",
    "        assert n <= len(sents)\n",
    "        word_sent = [word_tokenize(s.lower()) for s in sents]\n",
    "        self._freq = self.compute_frequencies(word_sent)\n",
    "        \n",
    "        rankings = defaultdict(int)\n",
    "        \n",
    "        for i, sent in enumerate(word_sent):\n",
    "            for word in sent:\n",
    "                if word in self._freq:\n",
    "                    rankings[i] += self._freq[word]\n",
    "                    \n",
    "        sents_idx = nlargest(n, rankings, key = rankings.get)\n",
    "        return [sents[j] for j in sents_idx]\n",
    "                    "
   ]
  },
  {
   "cell_type": "code",
   "execution_count": 203,
   "metadata": {
    "slideshow": {
     "slide_type": "subslide"
    }
   },
   "outputs": [],
   "source": [
    "s = '''\n",
    "Sgt. Pepper's Lonely Hearts Club Band, The Beatles (1967) Voted the worst record ever made in a 1998 Melody Maker poll of pop stars, DJs, and journalists.[3] Among the harshest detractors was musician and journalist John Robb, who described the album as \"the benchmark of 1967 - the low water point of rock 'n' roll\".[3] Guardian critic Richard Smith wrote that it is, \"if not the worst, then certainly the most overrated album of all time.\" He also contended that the \"excruciating\" LP was often ranked by members of the music press as the best ever due to affection for its cultural impact, and \"not because of anything intrinsically great about the record\".[4] Billy Childish was asked in 2007 to nominate the \"supposedly great\" album that he would \"gladly never hear again\", and he named Sgt. Pepper's Lonely Hearts Club Band and argued that it \"signalled the death of rock 'n' roll\".[5] Musician and author Bill Drummond called the record \"the worst thing that ever happened to music\n",
    "'''"
   ]
  },
  {
   "cell_type": "code",
   "execution_count": 204,
   "metadata": {
    "slideshow": {
     "slide_type": "fragment"
    }
   },
   "outputs": [],
   "source": [
    "f = FrequencySummarizer()"
   ]
  },
  {
   "cell_type": "code",
   "execution_count": 205,
   "metadata": {
    "slideshow": {
     "slide_type": "slide"
    }
   },
   "outputs": [
    {
     "data": {
      "text/plain": [
       "defaultdict(int,\n",
       "            {'\\n': 0.011976047904191617,\n",
       "             ' ': 1.0,\n",
       "             '\"': 0.08982035928143713,\n",
       "             \"'\": 0.03592814371257485,\n",
       "             '(': 0.005988023952095809,\n",
       "             ')': 0.005988023952095809,\n",
       "             ',': 0.04790419161676647,\n",
       "             '-': 0.005988023952095809,\n",
       "             '.': 0.041916167664670656,\n",
       "             '0': 0.011976047904191617,\n",
       "             '1': 0.017964071856287425,\n",
       "             '2': 0.005988023952095809,\n",
       "             '3': 0.011976047904191617,\n",
       "             '4': 0.005988023952095809,\n",
       "             '6': 0.011976047904191617,\n",
       "             '7': 0.017964071856287425,\n",
       "             '8': 0.005988023952095809,\n",
       "             '9': 0.023952095808383235,\n",
       "             'A': 0.005988023952095809,\n",
       "             'B': 0.029940119760479042,\n",
       "             'C': 0.017964071856287425,\n",
       "             'D': 0.011976047904191617,\n",
       "             'G': 0.005988023952095809,\n",
       "             'H': 0.017964071856287425,\n",
       "             'J': 0.011976047904191617,\n",
       "             'L': 0.017964071856287425,\n",
       "             'M': 0.017964071856287425,\n",
       "             'P': 0.017964071856287425,\n",
       "             'R': 0.011976047904191617,\n",
       "             'S': 0.017964071856287425,\n",
       "             'T': 0.005988023952095809,\n",
       "             'V': 0.005988023952095809,\n",
       "             '[': 0.023952095808383235,\n",
       "             ']': 0.023952095808383235,\n",
       "             'b': 0.08383233532934131,\n",
       "             'c': 0.1497005988023952,\n",
       "             'e': 0.49101796407185627,\n",
       "             'f': 0.0718562874251497,\n",
       "             'g': 0.0718562874251497,\n",
       "             'h': 0.23353293413173654,\n",
       "             'j': 0.011976047904191617,\n",
       "             'k': 0.03592814371257485,\n",
       "             'l': 0.23353293413173654,\n",
       "             'n': 0.2754491017964072,\n",
       "             'p': 0.08383233532934131,\n",
       "             'r': 0.30538922155688625,\n",
       "             'u': 0.1377245508982036,\n",
       "             'v': 0.029940119760479042,\n",
       "             'w': 0.0658682634730539,\n",
       "             'x': 0.005988023952095809})"
      ]
     },
     "execution_count": 205,
     "metadata": {},
     "output_type": "execute_result"
    }
   ],
   "source": [
    "f.compute_frequencies(s)"
   ]
  },
  {
   "cell_type": "code",
   "execution_count": 206,
   "metadata": {
    "slideshow": {
     "slide_type": "slide"
    }
   },
   "outputs": [
    {
     "data": {
      "text/plain": [
       "['[4] Billy Childish was asked in 2007 to nominate the \"supposedly great\" album that he would \"gladly never hear again\", and he named Sgt.',\n",
       " 'He also contended that the \"excruciating\" LP was often ranked by members of the music press as the best ever due to affection for its cultural impact, and \"not because of anything intrinsically great about the record\".',\n",
       " \"Pepper's Lonely Hearts Club Band, The Beatles (1967) Voted the worst record ever made in a 1998 Melody Maker poll of pop stars, DJs, and journalists.\",\n",
       " '[3] Among the harshest detractors was musician and journalist John Robb, who described the album as \"the benchmark of 1967 - the low water point of rock \\'n\\' roll\".']"
      ]
     },
     "execution_count": 206,
     "metadata": {},
     "output_type": "execute_result"
    }
   ],
   "source": [
    "f.summarize(s, 4)"
   ]
  }
 ],
 "metadata": {
  "celltoolbar": "Slideshow",
  "kernelspec": {
   "display_name": "Python 3",
   "language": "python",
   "name": "python3"
  },
  "language_info": {
   "codemirror_mode": {
    "name": "ipython",
    "version": 3
   },
   "file_extension": ".py",
   "mimetype": "text/x-python",
   "name": "python",
   "nbconvert_exporter": "python",
   "pygments_lexer": "ipython3",
   "version": "3.7.1"
  }
 },
 "nbformat": 4,
 "nbformat_minor": 2
}
